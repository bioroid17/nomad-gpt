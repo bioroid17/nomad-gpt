{
 "cells": [
  {
   "cell_type": "code",
   "execution_count": 2,
   "metadata": {},
   "outputs": [],
   "source": [
    "import openai as client\n",
    "\n",
    "# assistant = client.beta.assistants.create(\n",
    "#     name=\"Book Assistant\",\n",
    "#     instructions=\"You help users with their question on the files they upload.\",\n",
    "#     model=\"gpt-4o-mini\",\n",
    "#     tools=[{\"type\": \"file_search\"}],\n",
    "# )\n",
    "assistant_id = \"asst_2vAP8Lkhf0be1RnREnLQsZQJ\""
   ]
  },
  {
   "cell_type": "code",
   "execution_count": 3,
   "metadata": {},
   "outputs": [
    {
     "name": "stdout",
     "output_type": "stream",
     "text": [
      "Thread(id='thread_bT4FUPMghcl7ImWKWAwNCj4n', created_at=1727410683, metadata={}, object='thread', tool_resources=ToolResources(code_interpreter=None, file_search=None))\n"
     ]
    }
   ],
   "source": [
    "thread = client.beta.threads.create(\n",
    "    messages=[\n",
    "        {\n",
    "            \"role\": \"user\",\n",
    "            \"content\": \"I want you to help me with this file.\",\n",
    "        }\n",
    "    ]\n",
    ")\n",
    "print(thread)"
   ]
  },
  {
   "cell_type": "code",
   "execution_count": 4,
   "metadata": {},
   "outputs": [
    {
     "name": "stdout",
     "output_type": "stream",
     "text": [
      "FileObject(id='file-UQ8SL5EKJfbVWu7M4dUyjGNZ', bytes=35531, created_at=1727410777, filename='chapter_one.txt', object='file', purpose='assistants', status='processed', status_details=None)\n"
     ]
    }
   ],
   "source": [
    "file = client.files.create(\n",
    "    file=client.file_from_path(\"./files/chapter_one.txt\"),\n",
    "    purpose=\"assistants\",\n",
    ")\n",
    "print(file)"
   ]
  },
  {
   "cell_type": "code",
   "execution_count": 6,
   "metadata": {},
   "outputs": [
    {
     "data": {
      "text/plain": [
       "Message(id='msg_R13lA5p1zMRt9IrhUsESrg51', assistant_id=None, attachments=[Attachment(file_id='file-UQ8SL5EKJfbVWu7M4dUyjGNZ', tools=[AttachmentToolAssistantToolsFileSearchTypeOnly(type='file_search')])], completed_at=None, content=[TextContentBlock(text=Text(annotations=[], value='Please refer to the uploaded file for my question.'), type='text')], created_at=1727424307, incomplete_at=None, incomplete_details=None, metadata={}, object='thread.message', role='user', run_id=None, status=None, thread_id='thread_bT4FUPMghcl7ImWKWAwNCj4n')"
      ]
     },
     "execution_count": 6,
     "metadata": {},
     "output_type": "execute_result"
    }
   ],
   "source": [
    "client.beta.threads.messages.create(\n",
    "    thread_id=thread.id,\n",
    "    role=\"user\",\n",
    "    content=\"Please refer to the uploaded file for my question.\",\n",
    "    attachments=[\n",
    "        {\n",
    "            \"file_id\": file.id,\n",
    "            \"tools\": [\n",
    "                {\n",
    "                    \"type\": \"file_search\",\n",
    "                }\n",
    "            ],\n",
    "        }\n",
    "    ],\n",
    ")"
   ]
  },
  {
   "cell_type": "code",
   "execution_count": 34,
   "metadata": {},
   "outputs": [],
   "source": [
    "def get_run(run_id, thread_id):\n",
    "    return client.beta.threads.runs.retrieve(\n",
    "        run_id=run_id,\n",
    "        thread_id=thread_id,\n",
    "    )\n",
    "\n",
    "\n",
    "def send_message(thread_id, content):\n",
    "    return client.beta.threads.messages.create(\n",
    "        thread_id=thread_id,\n",
    "        role=\"user\",\n",
    "        content=content,\n",
    "    )\n",
    "\n",
    "\n",
    "def get_messages(thread_id):\n",
    "    messages = client.beta.threads.messages.list(thread_id=thread_id)\n",
    "    messages = list(messages)\n",
    "    messages.reverse()\n",
    "    for message in messages:\n",
    "        print(f\"{message.role}: {message.content[0].text.value}\")\n",
    "        for annotation in message.content[0].text.annotations:\n",
    "            print(f\"Source: {annotation.file_citation}\")\n",
    "\n",
    "\n",
    "# def get_tool_outputs(run_id, thread_id):\n",
    "#     run = get_run(run_id, thread_id)\n",
    "#     outputs = []\n",
    "#     for action in run.required_action.submit_tool_outputs.tool_calls:\n",
    "#         action_id = action.id\n",
    "#         function = action.function\n",
    "#         print(f\"Calling function: {function.name} with arg {function.arguments}\")\n",
    "#         outputs.append(\n",
    "#             {\n",
    "#                 \"output\": functions_map[function.name](json.loads(function.arguments)),\n",
    "#                 \"tool_call_id\": action_id,\n",
    "#             }\n",
    "#         )\n",
    "#     return outputs\n",
    "\n",
    "\n",
    "# def submit_tool_outputs(run_id, thread_id):\n",
    "#     outputs = get_tool_outputs(run_id, thread_id)\n",
    "#     return client.beta.threads.runs.submit_tool_outputs(\n",
    "#         run_id=run_id,\n",
    "#         thread_id=thread_id,\n",
    "#         tool_outputs=outputs,\n",
    "#     )"
   ]
  },
  {
   "cell_type": "code",
   "execution_count": 21,
   "metadata": {},
   "outputs": [
    {
     "name": "stdout",
     "output_type": "stream",
     "text": [
      "Run(id='run_Et6iu8qNsHs1HtSQCy6XBI34', assistant_id='asst_2vAP8Lkhf0be1RnREnLQsZQJ', cancelled_at=None, completed_at=None, created_at=1727429340, expires_at=1727429940, failed_at=None, incomplete_details=None, instructions='You help users with their question on the files they upload.', last_error=None, max_completion_tokens=None, max_prompt_tokens=None, metadata={}, model='gpt-4o-mini', object='thread.run', parallel_tool_calls=True, required_action=None, response_format='auto', started_at=None, status='queued', thread_id='thread_bT4FUPMghcl7ImWKWAwNCj4n', tool_choice='auto', tools=[FileSearchTool(type='file_search', file_search=FileSearch(max_num_results=None, ranking_options=FileSearchRankingOptions(score_threshold=0.0, ranker='default_2024_08_21')))], truncation_strategy=TruncationStrategy(type='auto', last_messages=None), usage=None, temperature=1.0, top_p=1.0, tool_resources={})\n"
     ]
    }
   ],
   "source": [
    "run = client.beta.threads.runs.create(\n",
    "    thread_id=thread.id,\n",
    "    assistant_id=assistant_id,\n",
    ")\n",
    "\n",
    "print(run)"
   ]
  },
  {
   "cell_type": "code",
   "execution_count": 22,
   "metadata": {},
   "outputs": [
    {
     "data": {
      "text/plain": [
       "'completed'"
      ]
     },
     "execution_count": 22,
     "metadata": {},
     "output_type": "execute_result"
    }
   ],
   "source": [
    "get_run(run.id, thread.id).status"
   ]
  },
  {
   "cell_type": "code",
   "execution_count": 35,
   "metadata": {},
   "outputs": [
    {
     "name": "stdout",
     "output_type": "stream",
     "text": [
      "user: I want you to help me with this file.\n",
      "user: Please refer to the uploaded file for my question.\n",
      "assistant: Please specify your question about the uploaded file, and I'll do my best to assist you!\n",
      "user: I want to know where does Winston live and how his apartment looks like.\n",
      "assistant: Winston lives in an apartment located in a building called Victory Mansions. The description of his surroundings is quite dreary and reflects the oppressive environment in which he lives.\n",
      "\n",
      "**Winston's Apartment and the Building:**\n",
      "- **Location**: Victory Mansions, a grim, run-down building in a decaying part of London, which is the chief city of the province of Oceania.\n",
      "- **Exterior**: The building, described with a facade that conveys a sense of neglect, has stairwells that often smell of boiled cabbage and old rugs. It has a poster with the face of Big Brother watching over the entrance, reinforcing the omnipresence of the Party【7:0†source】.\n",
      "- **Interior**: Winston's flat is seven flights up, and the lift is seldom in working order. The flat is sparsely furnished, and the kitchen contains very little food, just some dark bread and a bottle of colorless liquid labeled \"Victory Gin\". The apartment's atmosphere is cold, and the walls hold telescreens that transmit Party propaganda while also monitoring residents【7:0†source】【7:4†source】【7:1†source】.\n",
      "\n",
      "**Overall Ambiance**: Winston's living space is marked by a sense of dullness and bleakness, reflecting the oppressive societal conditions he lives under, where privacy and freedom are virtually nonexistent.\n",
      "\n",
      "Would you like to know more about Winston's life or the context of the story?\n",
      "Source: FileCitation(file_id='file-UQ8SL5EKJfbVWu7M4dUyjGNZ')\n",
      "Source: FileCitation(file_id='file-UQ8SL5EKJfbVWu7M4dUyjGNZ')\n",
      "Source: FileCitation(file_id='file-UQ8SL5EKJfbVWu7M4dUyjGNZ')\n",
      "Source: FileCitation(file_id='file-UQ8SL5EKJfbVWu7M4dUyjGNZ')\n",
      "user: Where does he work?\n",
      "assistant: Winston works at the Ministry of Truth, specifically in the Records Department. This ministry is responsible for news, entertainment, education, and the fine arts within the totalitarian state of Oceania. The Ministry of Truth is described as a vast structure, towering above its grimy surroundings, and is referred to by its Newspeak name, \"Minitrue\"【11:2†source】【11:1†source】.\n",
      "\n",
      "In his role, Winston's work involves altering historical records to fit the narrative dictated by the Party. This includes revising news articles and other documents to ensure that the Party's version of the truth remains consistent even as circumstances change. The atmosphere at the Ministry is heavily surveilled and controlled, reflecting the oppressive nature of the regime【11:1†source】【11:6†source】.\n",
      "\n",
      "If you have more specific questions or need further details, feel free to ask!\n",
      "Source: FileCitation(file_id='file-UQ8SL5EKJfbVWu7M4dUyjGNZ')\n",
      "Source: FileCitation(file_id='file-UQ8SL5EKJfbVWu7M4dUyjGNZ')\n",
      "Source: FileCitation(file_id='file-UQ8SL5EKJfbVWu7M4dUyjGNZ')\n",
      "Source: FileCitation(file_id='file-UQ8SL5EKJfbVWu7M4dUyjGNZ')\n"
     ]
    }
   ],
   "source": [
    "get_messages(thread.id)"
   ]
  },
  {
   "cell_type": "code",
   "execution_count": 19,
   "metadata": {},
   "outputs": [
    {
     "data": {
      "text/plain": [
       "Message(id='msg_BuZOd8fIoiv6YVQM7NTYnfJS', assistant_id=None, attachments=[], completed_at=None, content=[TextContentBlock(text=Text(annotations=[], value='Where does he work?'), type='text')], created_at=1727429167, incomplete_at=None, incomplete_details=None, metadata={}, object='thread.message', role='user', run_id=None, status=None, thread_id='thread_bT4FUPMghcl7ImWKWAwNCj4n')"
      ]
     },
     "execution_count": 19,
     "metadata": {},
     "output_type": "execute_result"
    }
   ],
   "source": [
    "send_message(\n",
    "    thread.id,\n",
    "    \"Where does he work?\",\n",
    ")"
   ]
  }
 ],
 "metadata": {
  "kernelspec": {
   "display_name": "env",
   "language": "python",
   "name": "python3"
  },
  "language_info": {
   "codemirror_mode": {
    "name": "ipython",
    "version": 3
   },
   "file_extension": ".py",
   "mimetype": "text/x-python",
   "name": "python",
   "nbconvert_exporter": "python",
   "pygments_lexer": "ipython3",
   "version": "3.11.2"
  }
 },
 "nbformat": 4,
 "nbformat_minor": 2
}
