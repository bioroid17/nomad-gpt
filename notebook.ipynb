{
 "cells": [
  {
   "cell_type": "code",
   "execution_count": 1,
   "metadata": {},
   "outputs": [],
   "source": [
    "from langchain.utilities.duckduckgo_search import DuckDuckGoSearchAPIWrapper\n",
    "import yfinance\n",
    "import json\n",
    "\n",
    "\n",
    "def get_ticker(inputs):\n",
    "    ddg = DuckDuckGoSearchAPIWrapper()\n",
    "    company_name = inputs[\"company_name\"]\n",
    "    return ddg.run(f\"Ticker symbol of {company_name}\")\n",
    "\n",
    "\n",
    "def get_income_statement(inputs):\n",
    "    ticker = inputs[\"ticker\"]\n",
    "    stock = yfinance.Ticker(ticker)\n",
    "    return json.dumps(stock.income_stmt.to_json())\n",
    "\n",
    "\n",
    "def get_balance_sheet(inputs):\n",
    "    ticker = inputs[\"ticker\"]\n",
    "    stock = yfinance.Ticker(ticker)\n",
    "    return json.dumps(stock.balance_sheet.to_json())\n",
    "\n",
    "\n",
    "def get_daily_stock_performance(inputs):\n",
    "    ticker = inputs[\"ticker\"]\n",
    "    stock = yfinance.Ticker(ticker)\n",
    "    return json.dumps(stock.history(period=\"3mo\").to_json())\n",
    "\n",
    "\n",
    "functions = [\n",
    "    {\n",
    "        \"type\": \"function\",\n",
    "        \"function\": {\n",
    "            \"name\": \"get_ticker\",\n",
    "            \"description\": \"Given the name of a company returns its ticker symbol\",\n",
    "            \"parameters\": {\n",
    "                \"type\": \"object\",\n",
    "                \"properties\": {\n",
    "                    \"company_name\": {\n",
    "                        \"type\": \"string\",\n",
    "                        \"description\": \"The name of the company\",\n",
    "                    }\n",
    "                },\n",
    "                \"required\": [\"company_name\"],\n",
    "            },\n",
    "        },\n",
    "    },\n",
    "    {\n",
    "        \"type\": \"function\",\n",
    "        \"function\": {\n",
    "            \"name\": \"get_income_statement\",\n",
    "            \"description\": \"Given a ticker symbol (i.e AAPL) returns the company's income statement.\",\n",
    "            \"parameters\": {\n",
    "                \"type\": \"object\",\n",
    "                \"properties\": {\n",
    "                    \"ticker\": {\n",
    "                        \"type\": \"string\",\n",
    "                        \"description\": \"Ticker symbol of the company\",\n",
    "                    },\n",
    "                },\n",
    "                \"required\": [\"ticker\"],\n",
    "            },\n",
    "        },\n",
    "    },\n",
    "    {\n",
    "        \"type\": \"function\",\n",
    "        \"function\": {\n",
    "            \"name\": \"get_balance_sheet\",\n",
    "            \"description\": \"Given a ticker symbol (i.e AAPL) returns the company's balance sheet.\",\n",
    "            \"parameters\": {\n",
    "                \"type\": \"object\",\n",
    "                \"properties\": {\n",
    "                    \"ticker\": {\n",
    "                        \"type\": \"string\",\n",
    "                        \"description\": \"Ticker symbol of the company\",\n",
    "                    },\n",
    "                },\n",
    "                \"required\": [\"ticker\"],\n",
    "            },\n",
    "        },\n",
    "    },\n",
    "    {\n",
    "        \"type\": \"function\",\n",
    "        \"function\": {\n",
    "            \"name\": \"get_daily_stock_performance\",\n",
    "            \"description\": \"Given a ticker symbol (i.e AAPL) returns the performance of the stock for the last 100 days.\",\n",
    "            \"parameters\": {\n",
    "                \"type\": \"object\",\n",
    "                \"properties\": {\n",
    "                    \"ticker\": {\n",
    "                        \"type\": \"string\",\n",
    "                        \"description\": \"Ticker symbol of the company\",\n",
    "                    },\n",
    "                },\n",
    "                \"required\": [\"ticker\"],\n",
    "            },\n",
    "        },\n",
    "    },\n",
    "]"
   ]
  },
  {
   "cell_type": "code",
   "execution_count": 2,
   "metadata": {},
   "outputs": [],
   "source": [
    "import openai as client\n",
    "\n",
    "# assistant = client.beta.assistants.create(\n",
    "#     name=\"Investor Assistant\",\n",
    "#     instructions=\"You help users do research on publicly traded companies and you help users decide if they should buy the stock or not.\",\n",
    "#     model=\"gpt-4-turbo\",\n",
    "#     tools=functions,\n",
    "# )\n",
    "assistant_id = \"asst_5pa9C9Kw2rsf1BIVDSqN6SZt\""
   ]
  },
  {
   "cell_type": "code",
   "execution_count": 3,
   "metadata": {},
   "outputs": [
    {
     "name": "stdout",
     "output_type": "stream",
     "text": [
      "Thread(id='thread_y6FbiZ63sFwoka6adn1OF5Ta', created_at=1726411104, metadata={}, object='thread', tool_resources=ToolResources(code_interpreter=None, file_search=None))\n"
     ]
    }
   ],
   "source": [
    "thread = client.beta.threads.create(\n",
    "    messages=[\n",
    "        {\n",
    "            \"role\": \"user\",\n",
    "            \"content\": \"I want to know if the Salesforce stock is a good buy.\",\n",
    "        }\n",
    "    ]\n",
    ")\n",
    "print(thread)"
   ]
  },
  {
   "cell_type": "code",
   "execution_count": 24,
   "metadata": {},
   "outputs": [],
   "source": [
    "def get_run(run_id, thread_id):\n",
    "    return client.beta.threads.runs.retrieve(\n",
    "        run_id=run_id,\n",
    "        thread_id=thread_id,\n",
    "    )\n",
    "\n",
    "\n",
    "def get_messages(thread_id):\n",
    "    messages = client.beta.threads.messages.list(thread_id=thread_id)\n",
    "    messages = list(messages)\n",
    "    messages.reverse()\n",
    "    for message in messages:\n",
    "        print(f\"{message.role}: {message.content[0].text.value}\")"
   ]
  },
  {
   "cell_type": "code",
   "execution_count": 5,
   "metadata": {},
   "outputs": [
    {
     "name": "stdout",
     "output_type": "stream",
     "text": [
      "Run(id='run_Mmr0OmehnaTrRn09RP6g0BZX', assistant_id='asst_5pa9C9Kw2rsf1BIVDSqN6SZt', cancelled_at=None, completed_at=None, created_at=1726411108, expires_at=1726411708, failed_at=None, incomplete_details=None, instructions='You help users do research on publicly traded companies and you help users decide if they should buy the stock or not.', last_error=None, max_completion_tokens=None, max_prompt_tokens=None, metadata={}, model='gpt-4-turbo', object='thread.run', parallel_tool_calls=True, required_action=None, response_format='auto', started_at=None, status='queued', thread_id='thread_y6FbiZ63sFwoka6adn1OF5Ta', tool_choice='auto', tools=[FunctionTool(function=FunctionDefinition(name='get_ticker', description='Given the name of a company returns its ticker symbol', parameters={'type': 'object', 'properties': {'company_name': {'type': 'string', 'description': 'The name of the company'}}, 'required': ['company_name']}, strict=False), type='function'), FunctionTool(function=FunctionDefinition(name='get_income_statement', description=\"Given a ticker symbol (i.e AAPL) returns the company's income statement.\", parameters={'type': 'object', 'properties': {'ticker': {'type': 'string', 'description': 'Ticker symbol of the company'}}, 'required': ['ticker']}, strict=False), type='function'), FunctionTool(function=FunctionDefinition(name='get_balance_sheet', description=\"Given a ticker symbol (i.e AAPL) returns the company's balance sheet.\", parameters={'type': 'object', 'properties': {'ticker': {'type': 'string', 'description': 'Ticker symbol of the company'}}, 'required': ['ticker']}, strict=False), type='function'), FunctionTool(function=FunctionDefinition(name='get_daily_stock_performance', description='Given a ticker symbol (i.e AAPL) returns the performance of the stock for the last 100 days.', parameters={'type': 'object', 'properties': {'ticker': {'type': 'string', 'description': 'Ticker symbol of the company'}}, 'required': ['ticker']}, strict=False), type='function')], truncation_strategy=TruncationStrategy(type='auto', last_messages=None), usage=None, temperature=1.0, top_p=1.0, tool_resources={})\n"
     ]
    }
   ],
   "source": [
    "run = client.beta.threads.runs.create(\n",
    "    thread_id=thread.id,\n",
    "    assistant_id=assistant_id,\n",
    ")\n",
    "\n",
    "print(run)"
   ]
  },
  {
   "cell_type": "code",
   "execution_count": 21,
   "metadata": {},
   "outputs": [
    {
     "data": {
      "text/plain": [
       "'completed'"
      ]
     },
     "execution_count": 21,
     "metadata": {},
     "output_type": "execute_result"
    }
   ],
   "source": [
    "get_run(run.id, thread.id).status"
   ]
  },
  {
   "cell_type": "code",
   "execution_count": 17,
   "metadata": {},
   "outputs": [
    {
     "name": "stdout",
     "output_type": "stream",
     "text": [
      "{'submit_tool_outputs': {'tool_calls': [{'id': 'call_ond6PW3VQp5EDF23bzRtUVg0', 'function': {'arguments': '{\"ticker\": \"CRM\"}', 'name': 'get_income_statement'}, 'type': 'function'}, {'id': 'call_yzyhJWu05ieHTNWLG7nsDczn', 'function': {'arguments': '{\"ticker\": \"CRM\"}', 'name': 'get_balance_sheet'}, 'type': 'function'}, {'id': 'call_yHknw87gtbBDI7xJUpgc6GXO', 'function': {'arguments': '{\"ticker\": \"CRM\"}', 'name': 'get_daily_stock_performance'}, 'type': 'function'}]}, 'type': 'submit_tool_outputs'}\n"
     ]
    }
   ],
   "source": [
    "print(get_run(run.id, thread.id).required_action.to_dict())"
   ]
  },
  {
   "cell_type": "code",
   "execution_count": 18,
   "metadata": {},
   "outputs": [
    {
     "data": {
      "text/plain": [
       "[{'tool_call_id': 'call_ond6PW3VQp5EDF23bzRtUVg0',\n",
       "  'output': '\"{\\\\\"1706659200000\\\\\":{\\\\\"Tax Effect Of Unusual Items\\\\\":-202400000.0,\\\\\"Tax Rate For Calcs\\\\\":0.16,\\\\\"Normalized EBITDA\\\\\":11223000000.0,\\\\\"Total Unusual Items\\\\\":-1265000000.0,\\\\\"Total Unusual Items Excluding Goodwill\\\\\":-1265000000.0,\\\\\"Net Income From Continuing Operation Net Minority Interest\\\\\":4136000000.0,\\\\\"Reconciled Depreciation\\\\\":3959000000.0,\\\\\"Reconciled Cost Of Revenue\\\\\":8541000000.0,\\\\\"EBITDA\\\\\":9958000000.0,\\\\\"EBIT\\\\\":5999000000.0,\\\\\"Normalized Income\\\\\":5198600000.0,\\\\\"Net Income From Continuing And Discontinued Operation\\\\\":4136000000.0,\\\\\"Total Expenses\\\\\":28858000000.0,\\\\\"Total Operating Income As Reported\\\\\":5011000000.0,\\\\\"Diluted Average Shares\\\\\":984000000.0,\\\\\"Basic Average Shares\\\\\":974000000.0,\\\\\"Diluted EPS\\\\\":4.2,\\\\\"Basic EPS\\\\\":4.25,\\\\\"Diluted NI Availto Com Stockholders\\\\\":4136000000.0,\\\\\"Net Income Common Stockholders\\\\\":4136000000.0,\\\\\"Net Income\\\\\":4136000000.0,\\\\\"Net Income Including Noncontrolling Interests\\\\\":4136000000.0,\\\\\"Net Income Continuous Operations\\\\\":4136000000.0,\\\\\"Tax Provision\\\\\":814000000.0,\\\\\"Pretax Income\\\\\":4950000000.0,\\\\\"Other Income Expense\\\\\":-1049000000.0,\\\\\"Other Non Operating Income Expenses\\\\\":216000000.0,\\\\\"Special Income Charges\\\\\":-1454000000.0,\\\\\"Other Special Charges\\\\\":null,\\\\\"Write Off\\\\\":466000000.0,\\\\\"Restructuring And Mergern Acquisition\\\\\":988000000.0,\\\\\"Gain On Sale Of Security\\\\\":189000000.0,\\\\\"Operating Income\\\\\":5999000000.0,\\\\\"Operating Expense\\\\\":20317000000.0,\\\\\"Depreciation Amortization Depletion Income Statement\\\\\":891000000.0,\\\\\"Depreciation And Amortization In Income Statement\\\\\":891000000.0,\\\\\"Amortization\\\\\":891000000.0,\\\\\"Amortization Of Intangibles Income Statement\\\\\":891000000.0,\\\\\"Research And Development\\\\\":4906000000.0,\\\\\"Selling General And Administration\\\\\":15411000000.0,\\\\\"Selling And Marketing Expense\\\\\":12877000000.0,\\\\\"General And Administrative Expense\\\\\":2534000000.0,\\\\\"Other Gand A\\\\\":2534000000.0,\\\\\"Salaries And Wages\\\\\":1062000000.0,\\\\\"Gross Profit\\\\\":26316000000.0,\\\\\"Cost Of Revenue\\\\\":8541000000.0,\\\\\"Total Revenue\\\\\":34857000000.0,\\\\\"Operating Revenue\\\\\":34857000000.0},\\\\\"1675123200000\\\\\":{\\\\\"Tax Effect Of Unusual Items\\\\\":-224070000.0,\\\\\"Tax Rate For Calcs\\\\\":0.21,\\\\\"Normalized EBITDA\\\\\":6711000000.0,\\\\\"Total Unusual Items\\\\\":-1067000000.0,\\\\\"Total Unusual Items Excluding Goodwill\\\\\":-1067000000.0,\\\\\"Net Income From Continuing Operation Net Minority Interest\\\\\":208000000.0,\\\\\"Reconciled Depreciation\\\\\":3786000000.0,\\\\\"Reconciled Cost Of Revenue\\\\\":8360000000.0,\\\\\"EBITDA\\\\\":5644000000.0,\\\\\"EBIT\\\\\":1858000000.0,\\\\\"Normalized Income\\\\\":1050930000.0,\\\\\"Net Income From Continuing And Discontinued Operation\\\\\":208000000.0,\\\\\"Total Expenses\\\\\":29494000000.0,\\\\\"Total Operating Income As Reported\\\\\":1030000000.0,\\\\\"Diluted Average Shares\\\\\":997000000.0,\\\\\"Basic Average Shares\\\\\":992000000.0,\\\\\"Diluted EPS\\\\\":0.21,\\\\\"Basic EPS\\\\\":0.21,\\\\\"Diluted NI Availto Com Stockholders\\\\\":208000000.0,\\\\\"Net Income Common Stockholders\\\\\":208000000.0,\\\\\"Net Income\\\\\":208000000.0,\\\\\"Net Income Including Noncontrolling Interests\\\\\":208000000.0,\\\\\"Net Income Continuous Operations\\\\\":208000000.0,\\\\\"Tax Provision\\\\\":452000000.0,\\\\\"Pretax Income\\\\\":660000000.0,\\\\\"Other Income Expense\\\\\":-1198000000.0,\\\\\"Other Non Operating Income Expenses\\\\\":-131000000.0,\\\\\"Special Income Charges\\\\\":-1319000000.0,\\\\\"Other Special Charges\\\\\":null,\\\\\"Write Off\\\\\":491000000.0,\\\\\"Restructuring And Mergern Acquisition\\\\\":828000000.0,\\\\\"Gain On Sale Of Security\\\\\":252000000.0,\\\\\"Operating Income\\\\\":1858000000.0,\\\\\"Operating Expense\\\\\":21134000000.0,\\\\\"Depreciation Amortization Depletion Income Statement\\\\\":916000000.0,\\\\\"Depreciation And Amortization In Income Statement\\\\\":916000000.0,\\\\\"Amortization\\\\\":916000000.0,\\\\\"Amortization Of Intangibles Income Statement\\\\\":916000000.0,\\\\\"Research And Development\\\\\":5055000000.0,\\\\\"Selling General And Administration\\\\\":16079000000.0,\\\\\"Selling And Marketing Expense\\\\\":13526000000.0,\\\\\"General And Administrative Expense\\\\\":2553000000.0,\\\\\"Other Gand A\\\\\":2553000000.0,\\\\\"Salaries And Wages\\\\\":1256000000.0,\\\\\"Gross Profit\\\\\":22992000000.0,\\\\\"Cost Of Revenue\\\\\":8360000000.0,\\\\\"Total Revenue\\\\\":31352000000.0,\\\\\"Operating Revenue\\\\\":31352000000.0},\\\\\"1643587200000\\\\\":{\\\\\"Tax Effect Of Unusual Items\\\\\":69561357.7023500055,\\\\\"Tax Rate For Calcs\\\\\":0.057441,\\\\\"Normalized EBITDA\\\\\":2635000000.0,\\\\\"Total Unusual Items\\\\\":1211000000.0,\\\\\"Total Unusual Items Excluding Goodwill\\\\\":1211000000.0,\\\\\"Net Income From Continuing Operation Net Minority Interest\\\\\":1444000000.0,\\\\\"Reconciled Depreciation\\\\\":3298000000.0,\\\\\"Reconciled Cost Of Revenue\\\\\":7026000000.0,\\\\\"EBITDA\\\\\":3846000000.0,\\\\\"EBIT\\\\\":548000000.0,\\\\\"Normalized Income\\\\\":302561357.7023500204,\\\\\"Net Income From Continuing And Discontinued Operation\\\\\":1444000000.0,\\\\\"Total Expenses\\\\\":25944000000.0,\\\\\"Total Operating Income As Reported\\\\\":548000000.0,\\\\\"Diluted Average Shares\\\\\":974000000.0,\\\\\"Basic Average Shares\\\\\":955000000.0,\\\\\"Diluted EPS\\\\\":1.48,\\\\\"Basic EPS\\\\\":1.51,\\\\\"Diluted NI Availto Com Stockholders\\\\\":1444000000.0,\\\\\"Net Income Common Stockholders\\\\\":1444000000.0,\\\\\"Net Income\\\\\":1444000000.0,\\\\\"Net Income Including Noncontrolling Interests\\\\\":1444000000.0,\\\\\"Net Income Continuous Operations\\\\\":1444000000.0,\\\\\"Tax Provision\\\\\":88000000.0,\\\\\"Pretax Income\\\\\":1532000000.0,\\\\\"Other Income Expense\\\\\":984000000.0,\\\\\"Other Non Operating Income Expenses\\\\\":-227000000.0,\\\\\"Special Income Charges\\\\\":-51000000.0,\\\\\"Other Special Charges\\\\\":null,\\\\\"Write Off\\\\\":51000000.0,\\\\\"Restructuring And Mergern Acquisition\\\\\":0.0,\\\\\"Gain On Sale Of Security\\\\\":1262000000.0,\\\\\"Operating Income\\\\\":548000000.0,\\\\\"Operating Expense\\\\\":18918000000.0,\\\\\"Depreciation Amortization Depletion Income Statement\\\\\":727000000.0,\\\\\"Depreciation And Amortization In Income Statement\\\\\":727000000.0,\\\\\"Amortization\\\\\":727000000.0,\\\\\"Amortization Of Intangibles Income Statement\\\\\":727000000.0,\\\\\"Research And Development\\\\\":4465000000.0,\\\\\"Selling General And Administration\\\\\":14453000000.0,\\\\\"Selling And Marketing Expense\\\\\":11855000000.0,\\\\\"General And Administrative Expense\\\\\":2598000000.0,\\\\\"Other Gand A\\\\\":2598000000.0,\\\\\"Salaries And Wages\\\\\":1104000000.0,\\\\\"Gross Profit\\\\\":19466000000.0,\\\\\"Cost Of Revenue\\\\\":7026000000.0,\\\\\"Total Revenue\\\\\":26492000000.0,\\\\\"Operating Revenue\\\\\":26492000000.0},\\\\\"1612051200000\\\\\":{\\\\\"Tax Effect Of Unusual Items\\\\\":585900000.0,\\\\\"Tax Rate For Calcs\\\\\":0.27,\\\\\"Normalized EBITDA\\\\\":1131000000.0,\\\\\"Total Unusual Items\\\\\":2170000000.0,\\\\\"Total Unusual Items Excluding Goodwill\\\\\":2170000000.0,\\\\\"Net Income From Continuing Operation Net Minority Interest\\\\\":4072000000.0,\\\\\"Reconciled Depreciation\\\\\":2846000000.0,\\\\\"Reconciled Cost Of Revenue\\\\\":5438000000.0,\\\\\"EBITDA\\\\\":3301000000.0,\\\\\"EBIT\\\\\":455000000.0,\\\\\"Normalized Income\\\\\":2487900000.0,\\\\\"Net Income From Continuing And Discontinued Operation\\\\\":4072000000.0,\\\\\"Total Expenses\\\\\":20797000000.0,\\\\\"Total Operating Income As Reported\\\\\":455000000.0,\\\\\"Diluted Average Shares\\\\\":930000000.0,\\\\\"Basic Average Shares\\\\\":908000000.0,\\\\\"Diluted EPS\\\\\":4.38,\\\\\"Basic EPS\\\\\":4.48,\\\\\"Diluted NI Availto Com Stockholders\\\\\":4072000000.0,\\\\\"Net Income Common Stockholders\\\\\":4072000000.0,\\\\\"Net Income\\\\\":4072000000.0,\\\\\"Net Income Including Noncontrolling Interests\\\\\":4072000000.0,\\\\\"Net Income Continuous Operations\\\\\":4072000000.0,\\\\\"Tax Provision\\\\\":-1511000000.0,\\\\\"Pretax Income\\\\\":2561000000.0,\\\\\"Other Income Expense\\\\\":2106000000.0,\\\\\"Other Non Operating Income Expenses\\\\\":-64000000.0,\\\\\"Special Income Charges\\\\\":-124000000.0,\\\\\"Other Special Charges\\\\\":null,\\\\\"Write Off\\\\\":124000000.0,\\\\\"Restructuring And Mergern Acquisition\\\\\":0.0,\\\\\"Gain On Sale Of Security\\\\\":2294000000.0,\\\\\"Operating Income\\\\\":455000000.0,\\\\\"Operating Expense\\\\\":15359000000.0,\\\\\"Depreciation Amortization Depletion Income Statement\\\\\":null,\\\\\"Depreciation And Amortization In Income Statement\\\\\":null,\\\\\"Amortization\\\\\":null,\\\\\"Amortization Of Intangibles Income Statement\\\\\":null,\\\\\"Research And Development\\\\\":3598000000.0,\\\\\"Selling General And Administration\\\\\":11761000000.0,\\\\\"Selling And Marketing Expense\\\\\":9674000000.0,\\\\\"General And Administrative Expense\\\\\":2087000000.0,\\\\\"Other Gand A\\\\\":2087000000.0,\\\\\"Salaries And Wages\\\\\":null,\\\\\"Gross Profit\\\\\":15814000000.0,\\\\\"Cost Of Revenue\\\\\":5438000000.0,\\\\\"Total Revenue\\\\\":21252000000.0,\\\\\"Operating Revenue\\\\\":21252000000.0},\\\\\"1580428800000\\\\\":{\\\\\"Tax Effect Of Unusual Items\\\\\":null,\\\\\"Tax Rate For Calcs\\\\\":null,\\\\\"Normalized EBITDA\\\\\":null,\\\\\"Total Unusual Items\\\\\":null,\\\\\"Total Unusual Items Excluding Goodwill\\\\\":null,\\\\\"Net Income From Continuing Operation Net Minority Interest\\\\\":null,\\\\\"Reconciled Depreciation\\\\\":null,\\\\\"Reconciled Cost Of Revenue\\\\\":null,\\\\\"EBITDA\\\\\":null,\\\\\"EBIT\\\\\":null,\\\\\"Normalized Income\\\\\":null,\\\\\"Net Income From Continuing And Discontinued Operation\\\\\":null,\\\\\"Total Expenses\\\\\":null,\\\\\"Total Operating Income As Reported\\\\\":null,\\\\\"Diluted Average Shares\\\\\":null,\\\\\"Basic Average Shares\\\\\":null,\\\\\"Diluted EPS\\\\\":null,\\\\\"Basic EPS\\\\\":null,\\\\\"Diluted NI Availto Com Stockholders\\\\\":null,\\\\\"Net Income Common Stockholders\\\\\":null,\\\\\"Net Income\\\\\":null,\\\\\"Net Income Including Noncontrolling Interests\\\\\":null,\\\\\"Net Income Continuous Operations\\\\\":null,\\\\\"Tax Provision\\\\\":null,\\\\\"Pretax Income\\\\\":null,\\\\\"Other Income Expense\\\\\":null,\\\\\"Other Non Operating Income Expenses\\\\\":null,\\\\\"Special Income Charges\\\\\":null,\\\\\"Other Special Charges\\\\\":166000000.0,\\\\\"Write Off\\\\\":null,\\\\\"Restructuring And Mergern Acquisition\\\\\":null,\\\\\"Gain On Sale Of Security\\\\\":null,\\\\\"Operating Income\\\\\":null,\\\\\"Operating Expense\\\\\":null,\\\\\"Depreciation Amortization Depletion Income Statement\\\\\":null,\\\\\"Depreciation And Amortization In Income Statement\\\\\":null,\\\\\"Amortization\\\\\":null,\\\\\"Amortization Of Intangibles Income Statement\\\\\":null,\\\\\"Research And Development\\\\\":null,\\\\\"Selling General And Administration\\\\\":null,\\\\\"Selling And Marketing Expense\\\\\":null,\\\\\"General And Administrative Expense\\\\\":null,\\\\\"Other Gand A\\\\\":null,\\\\\"Salaries And Wages\\\\\":null,\\\\\"Gross Profit\\\\\":null,\\\\\"Cost Of Revenue\\\\\":null,\\\\\"Total Revenue\\\\\":null,\\\\\"Operating Revenue\\\\\":null}}\"'},\n",
       " {'tool_call_id': 'call_yzyhJWu05ieHTNWLG7nsDczn',\n",
       "  'output': '\"{\\\\\"1706659200000\\\\\":{\\\\\"Treasury Shares Number\\\\\":64000000.0,\\\\\"Ordinary Shares Number\\\\\":971000000.0,\\\\\"Share Issued\\\\\":1035000000.0,\\\\\"Net Debt\\\\\":954000000.0,\\\\\"Total Debt\\\\\":12588000000.0,\\\\\"Tangible Book Value\\\\\":5748000000.0,\\\\\"Invested Capital\\\\\":69072000000.0,\\\\\"Working Capital\\\\\":2443000000.0,\\\\\"Net Tangible Assets\\\\\":5748000000.0,\\\\\"Capital Lease Obligations\\\\\":3162000000.0,\\\\\"Common Stock Equity\\\\\":59646000000.0,\\\\\"Total Capitalization\\\\\":68073000000.0,\\\\\"Total Equity Gross Minority Interest\\\\\":59646000000.0,\\\\\"Stockholders Equity\\\\\":59646000000.0,\\\\\"Gains Losses Not Affecting Retained Earnings\\\\\":-225000000.0,\\\\\"Other Equity Adjustments\\\\\":-225000000.0,\\\\\"Treasury Stock\\\\\":11692000000.0,\\\\\"Retained Earnings\\\\\":11721000000.0,\\\\\"Additional Paid In Capital\\\\\":59841000000.0,\\\\\"Capital Stock\\\\\":1000000.0,\\\\\"Common Stock\\\\\":1000000.0,\\\\\"Preferred Stock\\\\\":0.0,\\\\\"Total Liabilities Net Minority Interest\\\\\":40177000000.0,\\\\\"Total Non Current Liabilities Net Minority Interest\\\\\":13546000000.0,\\\\\"Other Non Current Liabilities\\\\\":2475000000.0,\\\\\"Long Term Debt And Capital Lease Obligation\\\\\":11071000000.0,\\\\\"Long Term Capital Lease Obligation\\\\\":2644000000.0,\\\\\"Long Term Debt\\\\\":8427000000.0,\\\\\"Current Liabilities\\\\\":26631000000.0,\\\\\"Current Deferred Liabilities\\\\\":19003000000.0,\\\\\"Current Deferred Revenue\\\\\":19003000000.0,\\\\\"Current Debt And Capital Lease Obligation\\\\\":1517000000.0,\\\\\"Current Capital Lease Obligation\\\\\":518000000.0,\\\\\"Current Debt\\\\\":999000000.0,\\\\\"Other Current Borrowings\\\\\":999000000.0,\\\\\"Payables And Accrued Expenses\\\\\":6111000000.0,\\\\\"Payables\\\\\":null,\\\\\"Accounts Payable\\\\\":null,\\\\\"Total Assets\\\\\":99823000000.0,\\\\\"Total Non Current Assets\\\\\":70749000000.0,\\\\\"Non Current Deferred Assets\\\\\":5948000000.0,\\\\\"Non Current Deferred Taxes Assets\\\\\":3433000000.0,\\\\\"Investments And Advances\\\\\":4848000000.0,\\\\\"Other Investments\\\\\":null,\\\\\"Investmentin Financial Assets\\\\\":4848000000.0,\\\\\"Held To Maturity Securities\\\\\":81000000.0,\\\\\"Available For Sale Securities\\\\\":4767000000.0,\\\\\"Goodwill And Other Intangible Assets\\\\\":53898000000.0,\\\\\"Other Intangible Assets\\\\\":5278000000.0,\\\\\"Goodwill\\\\\":48620000000.0,\\\\\"Net PPE\\\\\":6055000000.0,\\\\\"Accumulated Depreciation\\\\\":-3152000000.0,\\\\\"Gross PPE\\\\\":9207000000.0,\\\\\"Leases\\\\\":1604000000.0,\\\\\"Other Properties\\\\\":2366000000.0,\\\\\"Machinery Furniture Equipment\\\\\":4454000000.0,\\\\\"Buildings And Improvements\\\\\":490000000.0,\\\\\"Land And Improvements\\\\\":293000000.0,\\\\\"Properties\\\\\":0.0,\\\\\"Current Assets\\\\\":29074000000.0,\\\\\"Other Current Assets\\\\\":1561000000.0,\\\\\"Current Deferred Assets\\\\\":1905000000.0,\\\\\"Prepaid Assets\\\\\":null,\\\\\"Receivables\\\\\":11414000000.0,\\\\\"Accounts Receivable\\\\\":11414000000.0,\\\\\"Allowance For Doubtful Accounts Receivable\\\\\":null,\\\\\"Gross Accounts Receivable\\\\\":null,\\\\\"Cash Cash Equivalents And Short Term Investments\\\\\":14194000000.0,\\\\\"Other Short Term Investments\\\\\":5722000000.0,\\\\\"Cash And Cash Equivalents\\\\\":8472000000.0},\\\\\"1675123200000\\\\\":{\\\\\"Treasury Shares Number\\\\\":28000000.0,\\\\\"Ordinary Shares Number\\\\\":981000000.0,\\\\\"Share Issued\\\\\":1009000000.0,\\\\\"Net Debt\\\\\":3585000000.0,\\\\\"Total Debt\\\\\":14088000000.0,\\\\\"Tangible Book Value\\\\\":2666000000.0,\\\\\"Invested Capital\\\\\":68960000000.0,\\\\\"Working Capital\\\\\":504000000.0,\\\\\"Net Tangible Assets\\\\\":2666000000.0,\\\\\"Capital Lease Obligations\\\\\":3487000000.0,\\\\\"Common Stock Equity\\\\\":58359000000.0,\\\\\"Total Capitalization\\\\\":67778000000.0,\\\\\"Total Equity Gross Minority Interest\\\\\":58359000000.0,\\\\\"Stockholders Equity\\\\\":58359000000.0,\\\\\"Gains Losses Not Affecting Retained Earnings\\\\\":-274000000.0,\\\\\"Other Equity Adjustments\\\\\":-274000000.0,\\\\\"Treasury Stock\\\\\":4000000000.0,\\\\\"Retained Earnings\\\\\":7585000000.0,\\\\\"Additional Paid In Capital\\\\\":55047000000.0,\\\\\"Capital Stock\\\\\":1000000.0,\\\\\"Common Stock\\\\\":1000000.0,\\\\\"Preferred Stock\\\\\":0.0,\\\\\"Total Liabilities Net Minority Interest\\\\\":40490000000.0,\\\\\"Total Non Current Liabilities Net Minority Interest\\\\\":14599000000.0,\\\\\"Other Non Current Liabilities\\\\\":2283000000.0,\\\\\"Long Term Debt And Capital Lease Obligation\\\\\":12316000000.0,\\\\\"Long Term Capital Lease Obligation\\\\\":2897000000.0,\\\\\"Long Term Debt\\\\\":9419000000.0,\\\\\"Current Liabilities\\\\\":25891000000.0,\\\\\"Current Deferred Liabilities\\\\\":17376000000.0,\\\\\"Current Deferred Revenue\\\\\":17376000000.0,\\\\\"Current Debt And Capital Lease Obligation\\\\\":1772000000.0,\\\\\"Current Capital Lease Obligation\\\\\":590000000.0,\\\\\"Current Debt\\\\\":1182000000.0,\\\\\"Other Current Borrowings\\\\\":1182000000.0,\\\\\"Payables And Accrued Expenses\\\\\":6743000000.0,\\\\\"Payables\\\\\":null,\\\\\"Accounts Payable\\\\\":null,\\\\\"Total Assets\\\\\":98849000000.0,\\\\\"Total Non Current Assets\\\\\":72454000000.0,\\\\\"Non Current Deferred Assets\\\\\":5497000000.0,\\\\\"Non Current Deferred Taxes Assets\\\\\":2800000000.0,\\\\\"Investments And Advances\\\\\":4672000000.0,\\\\\"Other Investments\\\\\":null,\\\\\"Investmentin Financial Assets\\\\\":4672000000.0,\\\\\"Held To Maturity Securities\\\\\":69000000.0,\\\\\"Available For Sale Securities\\\\\":4603000000.0,\\\\\"Goodwill And Other Intangible Assets\\\\\":55693000000.0,\\\\\"Other Intangible Assets\\\\\":7125000000.0,\\\\\"Goodwill\\\\\":48568000000.0,\\\\\"Net PPE\\\\\":6592000000.0,\\\\\"Accumulated Depreciation\\\\\":-2702000000.0,\\\\\"Gross PPE\\\\\":9294000000.0,\\\\\"Leases\\\\\":1807000000.0,\\\\\"Other Properties\\\\\":2890000000.0,\\\\\"Machinery Furniture Equipment\\\\\":3815000000.0,\\\\\"Buildings And Improvements\\\\\":489000000.0,\\\\\"Land And Improvements\\\\\":293000000.0,\\\\\"Properties\\\\\":0.0,\\\\\"Current Assets\\\\\":26395000000.0,\\\\\"Other Current Assets\\\\\":1356000000.0,\\\\\"Current Deferred Assets\\\\\":1776000000.0,\\\\\"Prepaid Assets\\\\\":null,\\\\\"Receivables\\\\\":10755000000.0,\\\\\"Accounts Receivable\\\\\":10755000000.0,\\\\\"Allowance For Doubtful Accounts Receivable\\\\\":null,\\\\\"Gross Accounts Receivable\\\\\":null,\\\\\"Cash Cash Equivalents And Short Term Investments\\\\\":12508000000.0,\\\\\"Other Short Term Investments\\\\\":5492000000.0,\\\\\"Cash And Cash Equivalents\\\\\":7016000000.0},\\\\\"1643587200000\\\\\":{\\\\\"Treasury Shares Number\\\\\":null,\\\\\"Ordinary Shares Number\\\\\":989000000.0,\\\\\"Share Issued\\\\\":989000000.0,\\\\\"Net Debt\\\\\":5132000000.0,\\\\\"Total Debt\\\\\":13985000000.0,\\\\\"Tangible Book Value\\\\\":1216000000.0,\\\\\"Invested Capital\\\\\":68727000000.0,\\\\\"Working Capital\\\\\":1062000000.0,\\\\\"Net Tangible Assets\\\\\":1216000000.0,\\\\\"Capital Lease Obligations\\\\\":3389000000.0,\\\\\"Common Stock Equity\\\\\":58131000000.0,\\\\\"Total Capitalization\\\\\":68723000000.0,\\\\\"Total Equity Gross Minority Interest\\\\\":58131000000.0,\\\\\"Stockholders Equity\\\\\":58131000000.0,\\\\\"Gains Losses Not Affecting Retained Earnings\\\\\":-166000000.0,\\\\\"Other Equity Adjustments\\\\\":-166000000.0,\\\\\"Treasury Stock\\\\\":0.0,\\\\\"Retained Earnings\\\\\":7377000000.0,\\\\\"Additional Paid In Capital\\\\\":50919000000.0,\\\\\"Capital Stock\\\\\":1000000.0,\\\\\"Common Stock\\\\\":1000000.0,\\\\\"Preferred Stock\\\\\":0.0,\\\\\"Total Liabilities Net Minority Interest\\\\\":37078000000.0,\\\\\"Total Non Current Liabilities Net Minority Interest\\\\\":15290000000.0,\\\\\"Other Non Current Liabilities\\\\\":1995000000.0,\\\\\"Long Term Debt And Capital Lease Obligation\\\\\":13295000000.0,\\\\\"Long Term Capital Lease Obligation\\\\\":2703000000.0,\\\\\"Long Term Debt\\\\\":10592000000.0,\\\\\"Current Liabilities\\\\\":21788000000.0,\\\\\"Current Deferred Liabilities\\\\\":15628000000.0,\\\\\"Current Deferred Revenue\\\\\":15628000000.0,\\\\\"Current Debt And Capital Lease Obligation\\\\\":690000000.0,\\\\\"Current Capital Lease Obligation\\\\\":686000000.0,\\\\\"Current Debt\\\\\":4000000.0,\\\\\"Other Current Borrowings\\\\\":4000000.0,\\\\\"Payables And Accrued Expenses\\\\\":5470000000.0,\\\\\"Payables\\\\\":null,\\\\\"Accounts Payable\\\\\":null,\\\\\"Total Assets\\\\\":95209000000.0,\\\\\"Total Non Current Assets\\\\\":72359000000.0,\\\\\"Non Current Deferred Assets\\\\\":4965000000.0,\\\\\"Non Current Deferred Taxes Assets\\\\\":2623000000.0,\\\\\"Investments And Advances\\\\\":4784000000.0,\\\\\"Other Investments\\\\\":4784000000.0,\\\\\"Investmentin Financial Assets\\\\\":4784000000.0,\\\\\"Held To Maturity Securities\\\\\":88000000.0,\\\\\"Available For Sale Securities\\\\\":4696000000.0,\\\\\"Goodwill And Other Intangible Assets\\\\\":56915000000.0,\\\\\"Other Intangible Assets\\\\\":8978000000.0,\\\\\"Goodwill\\\\\":47937000000.0,\\\\\"Net PPE\\\\\":5695000000.0,\\\\\"Accumulated Depreciation\\\\\":-2401000000.0,\\\\\"Gross PPE\\\\\":8096000000.0,\\\\\"Leases\\\\\":1656000000.0,\\\\\"Other Properties\\\\\":2880000000.0,\\\\\"Machinery Furniture Equipment\\\\\":2780000000.0,\\\\\"Buildings And Improvements\\\\\":487000000.0,\\\\\"Land And Improvements\\\\\":293000000.0,\\\\\"Properties\\\\\":0.0,\\\\\"Current Assets\\\\\":22850000000.0,\\\\\"Other Current Assets\\\\\":1120000000.0,\\\\\"Current Deferred Assets\\\\\":1454000000.0,\\\\\"Prepaid Assets\\\\\":1120000000.0,\\\\\"Receivables\\\\\":9739000000.0,\\\\\"Accounts Receivable\\\\\":9739000000.0,\\\\\"Allowance For Doubtful Accounts Receivable\\\\\":null,\\\\\"Gross Accounts Receivable\\\\\":null,\\\\\"Cash Cash Equivalents And Short Term Investments\\\\\":10537000000.0,\\\\\"Other Short Term Investments\\\\\":5073000000.0,\\\\\"Cash And Cash Equivalents\\\\\":5464000000.0},\\\\\"1612051200000\\\\\":{\\\\\"Treasury Shares Number\\\\\":null,\\\\\"Ordinary Shares Number\\\\\":919000000.0,\\\\\"Share Issued\\\\\":919000000.0,\\\\\"Net Debt\\\\\":null,\\\\\"Total Debt\\\\\":6281000000.0,\\\\\"Tangible Book Value\\\\\":11061000000.0,\\\\\"Invested Capital\\\\\":44166000000.0,\\\\\"Working Capital\\\\\":4161000000.0,\\\\\"Net Tangible Assets\\\\\":11061000000.0,\\\\\"Capital Lease Obligations\\\\\":3608000000.0,\\\\\"Common Stock Equity\\\\\":41493000000.0,\\\\\"Total Capitalization\\\\\":44166000000.0,\\\\\"Total Equity Gross Minority Interest\\\\\":41493000000.0,\\\\\"Stockholders Equity\\\\\":41493000000.0,\\\\\"Gains Losses Not Affecting Retained Earnings\\\\\":-42000000.0,\\\\\"Other Equity Adjustments\\\\\":-42000000.0,\\\\\"Treasury Stock\\\\\":null,\\\\\"Retained Earnings\\\\\":5933000000.0,\\\\\"Additional Paid In Capital\\\\\":35601000000.0,\\\\\"Capital Stock\\\\\":1000000.0,\\\\\"Common Stock\\\\\":1000000.0,\\\\\"Preferred Stock\\\\\":0.0,\\\\\"Total Liabilities Net Minority Interest\\\\\":24808000000.0,\\\\\"Total Non Current Liabilities Net Minority Interest\\\\\":7080000000.0,\\\\\"Other Non Current Liabilities\\\\\":1565000000.0,\\\\\"Long Term Debt And Capital Lease Obligation\\\\\":5515000000.0,\\\\\"Long Term Capital Lease Obligation\\\\\":2842000000.0,\\\\\"Long Term Debt\\\\\":2673000000.0,\\\\\"Current Liabilities\\\\\":17728000000.0,\\\\\"Current Deferred Liabilities\\\\\":12607000000.0,\\\\\"Current Deferred Revenue\\\\\":12607000000.0,\\\\\"Current Debt And Capital Lease Obligation\\\\\":766000000.0,\\\\\"Current Capital Lease Obligation\\\\\":766000000.0,\\\\\"Current Debt\\\\\":null,\\\\\"Other Current Borrowings\\\\\":null,\\\\\"Payables And Accrued Expenses\\\\\":4355000000.0,\\\\\"Payables\\\\\":4355000000.0,\\\\\"Accounts Payable\\\\\":4355000000.0,\\\\\"Total Assets\\\\\":66301000000.0,\\\\\"Total Non Current Assets\\\\\":44412000000.0,\\\\\"Non Current Deferred Assets\\\\\":4408000000.0,\\\\\"Non Current Deferred Taxes Assets\\\\\":2693000000.0,\\\\\"Investments And Advances\\\\\":3909000000.0,\\\\\"Other Investments\\\\\":3909000000.0,\\\\\"Investmentin Financial Assets\\\\\":3909000000.0,\\\\\"Held To Maturity Securities\\\\\":51000000.0,\\\\\"Available For Sale Securities\\\\\":3858000000.0,\\\\\"Goodwill And Other Intangible Assets\\\\\":30432000000.0,\\\\\"Other Intangible Assets\\\\\":4114000000.0,\\\\\"Goodwill\\\\\":26318000000.0,\\\\\"Net PPE\\\\\":5663000000.0,\\\\\"Accumulated Depreciation\\\\\":-1955000000.0,\\\\\"Gross PPE\\\\\":7618000000.0,\\\\\"Leases\\\\\":1507000000.0,\\\\\"Other Properties\\\\\":3204000000.0,\\\\\"Machinery Furniture Equipment\\\\\":2129000000.0,\\\\\"Buildings And Improvements\\\\\":485000000.0,\\\\\"Land And Improvements\\\\\":293000000.0,\\\\\"Properties\\\\\":0.0,\\\\\"Current Assets\\\\\":21889000000.0,\\\\\"Other Current Assets\\\\\":991000000.0,\\\\\"Current Deferred Assets\\\\\":1146000000.0,\\\\\"Prepaid Assets\\\\\":991000000.0,\\\\\"Receivables\\\\\":7786000000.0,\\\\\"Accounts Receivable\\\\\":7786000000.0,\\\\\"Allowance For Doubtful Accounts Receivable\\\\\":null,\\\\\"Gross Accounts Receivable\\\\\":null,\\\\\"Cash Cash Equivalents And Short Term Investments\\\\\":11966000000.0,\\\\\"Other Short Term Investments\\\\\":5771000000.0,\\\\\"Cash And Cash Equivalents\\\\\":6195000000.0},\\\\\"1580428800000\\\\\":{\\\\\"Treasury Shares Number\\\\\":null,\\\\\"Ordinary Shares Number\\\\\":null,\\\\\"Share Issued\\\\\":null,\\\\\"Net Debt\\\\\":null,\\\\\"Total Debt\\\\\":null,\\\\\"Tangible Book Value\\\\\":null,\\\\\"Invested Capital\\\\\":null,\\\\\"Working Capital\\\\\":null,\\\\\"Net Tangible Assets\\\\\":null,\\\\\"Capital Lease Obligations\\\\\":null,\\\\\"Common Stock Equity\\\\\":null,\\\\\"Total Capitalization\\\\\":null,\\\\\"Total Equity Gross Minority Interest\\\\\":null,\\\\\"Stockholders Equity\\\\\":null,\\\\\"Gains Losses Not Affecting Retained Earnings\\\\\":null,\\\\\"Other Equity Adjustments\\\\\":null,\\\\\"Treasury Stock\\\\\":null,\\\\\"Retained Earnings\\\\\":null,\\\\\"Additional Paid In Capital\\\\\":null,\\\\\"Capital Stock\\\\\":null,\\\\\"Common Stock\\\\\":null,\\\\\"Preferred Stock\\\\\":null,\\\\\"Total Liabilities Net Minority Interest\\\\\":null,\\\\\"Total Non Current Liabilities Net Minority Interest\\\\\":null,\\\\\"Other Non Current Liabilities\\\\\":null,\\\\\"Long Term Debt And Capital Lease Obligation\\\\\":null,\\\\\"Long Term Capital Lease Obligation\\\\\":null,\\\\\"Long Term Debt\\\\\":null,\\\\\"Current Liabilities\\\\\":null,\\\\\"Current Deferred Liabilities\\\\\":null,\\\\\"Current Deferred Revenue\\\\\":null,\\\\\"Current Debt And Capital Lease Obligation\\\\\":null,\\\\\"Current Capital Lease Obligation\\\\\":null,\\\\\"Current Debt\\\\\":null,\\\\\"Other Current Borrowings\\\\\":null,\\\\\"Payables And Accrued Expenses\\\\\":null,\\\\\"Payables\\\\\":3433000000.0,\\\\\"Accounts Payable\\\\\":3433000000.0,\\\\\"Total Assets\\\\\":null,\\\\\"Total Non Current Assets\\\\\":null,\\\\\"Non Current Deferred Assets\\\\\":null,\\\\\"Non Current Deferred Taxes Assets\\\\\":null,\\\\\"Investments And Advances\\\\\":null,\\\\\"Other Investments\\\\\":1963000000.0,\\\\\"Investmentin Financial Assets\\\\\":null,\\\\\"Held To Maturity Securities\\\\\":null,\\\\\"Available For Sale Securities\\\\\":null,\\\\\"Goodwill And Other Intangible Assets\\\\\":null,\\\\\"Other Intangible Assets\\\\\":null,\\\\\"Goodwill\\\\\":null,\\\\\"Net PPE\\\\\":null,\\\\\"Accumulated Depreciation\\\\\":null,\\\\\"Gross PPE\\\\\":null,\\\\\"Leases\\\\\":null,\\\\\"Other Properties\\\\\":null,\\\\\"Machinery Furniture Equipment\\\\\":null,\\\\\"Buildings And Improvements\\\\\":null,\\\\\"Land And Improvements\\\\\":null,\\\\\"Properties\\\\\":null,\\\\\"Current Assets\\\\\":null,\\\\\"Other Current Assets\\\\\":null,\\\\\"Current Deferred Assets\\\\\":null,\\\\\"Prepaid Assets\\\\\":916000000.0,\\\\\"Receivables\\\\\":null,\\\\\"Accounts Receivable\\\\\":null,\\\\\"Allowance For Doubtful Accounts Receivable\\\\\":-23000000.0,\\\\\"Gross Accounts Receivable\\\\\":6197000000.0,\\\\\"Cash Cash Equivalents And Short Term Investments\\\\\":null,\\\\\"Other Short Term Investments\\\\\":null,\\\\\"Cash And Cash Equivalents\\\\\":null}}\"'},\n",
       " {'tool_call_id': 'call_yHknw87gtbBDI7xJUpgc6GXO',\n",
       "  'output': '\"{\\\\\"Open\\\\\":{\\\\\"1718337600000\\\\\":228.993557759,\\\\\"1718596800000\\\\\":229.9220942854,\\\\\"1718683200000\\\\\":230.1217875259,\\\\\"1718856000000\\\\\":232.4881075896,\\\\\"1718942400000\\\\\":240.196111077,\\\\\"1719201600000\\\\\":242.812041816,\\\\\"1719288000000\\\\\":241.4042200076,\\\\\"1719374400000\\\\\":241.094713064,\\\\\"1719460800000\\\\\":244.6192254824,\\\\\"1719547200000\\\\\":253.1059981343,\\\\\"1719806400000\\\\\":257.7487854475,\\\\\"1719892800000\\\\\":254.6536119629,\\\\\"1719979200000\\\\\":256.5806027027,\\\\\"1720152000000\\\\\":262.3116740932,\\\\\"1720411200000\\\\\":260.9737787935,\\\\\"1720497600000\\\\\":256.0899963379,\\\\\"1720584000000\\\\\":251.1999969482,\\\\\"1720670400000\\\\\":252.6000061035,\\\\\"1720756800000\\\\\":251.6199951172,\\\\\"1721016000000\\\\\":256.0199890137,\\\\\"1721102400000\\\\\":253.7799987793,\\\\\"1721188800000\\\\\":254.0,\\\\\"1721275200000\\\\\":252.1399993896,\\\\\"1721361600000\\\\\":248.6499938965,\\\\\"1721620800000\\\\\":248.75,\\\\\"1721707200000\\\\\":256.5899963379,\\\\\"1721793600000\\\\\":253.6300048828,\\\\\"1721880000000\\\\\":254.7400054932,\\\\\"1721966400000\\\\\":258.1700134277,\\\\\"1722225600000\\\\\":262.7099914551,\\\\\"1722312000000\\\\\":259.6199951172,\\\\\"1722398400000\\\\\":256.2099914551,\\\\\"1722484800000\\\\\":259.8999938965,\\\\\"1722571200000\\\\\":247.7899932861,\\\\\"1722830400000\\\\\":232.3200073242,\\\\\"1722916800000\\\\\":241.0899963379,\\\\\"1723003200000\\\\\":242.6100006104,\\\\\"1723089600000\\\\\":243.2400054932,\\\\\"1723176000000\\\\\":248.6999969482,\\\\\"1723435200000\\\\\":252.6000061035,\\\\\"1723521600000\\\\\":253.0,\\\\\"1723608000000\\\\\":255.3899993896,\\\\\"1723694400000\\\\\":257.8999938965,\\\\\"1723780800000\\\\\":261.75,\\\\\"1724040000000\\\\\":263.1000061035,\\\\\"1724126400000\\\\\":264.950012207,\\\\\"1724212800000\\\\\":261.1000061035,\\\\\"1724299200000\\\\\":261.5,\\\\\"1724385600000\\\\\":261.9899902344,\\\\\"1724644800000\\\\\":263.9400024414,\\\\\"1724731200000\\\\\":259.6499938965,\\\\\"1724817600000\\\\\":261.8299865723,\\\\\"1724904000000\\\\\":271.0100097656,\\\\\"1724990400000\\\\\":257.4400024414,\\\\\"1725336000000\\\\\":252.6199951172,\\\\\"1725422400000\\\\\":246.4700012207,\\\\\"1725508800000\\\\\":245.9799957275,\\\\\"1725595200000\\\\\":247.7400054932,\\\\\"1725854400000\\\\\":246.5,\\\\\"1725940800000\\\\\":247.1300048828,\\\\\"1726027200000\\\\\":244.8099975586,\\\\\"1726113600000\\\\\":251.3899993896,\\\\\"1726200000000\\\\\":252.5399932861},\\\\\"High\\\\\":{\\\\\"1718337600000\\\\\":234.8843820763,\\\\\"1718596800000\\\\\":231.4796672733,\\\\\"1718683200000\\\\\":231.9289720161,\\\\\"1718856000000\\\\\":243.3911337551,\\\\\"1718942400000\\\\\":244.9886386822,\\\\\"1719201600000\\\\\":244.0301469373,\\\\\"1719288000000\\\\\":242.722175753,\\\\\"1719374400000\\\\\":243.2313865066,\\\\\"1719460800000\\\\\":258.1980947052,\\\\\"1719547200000\\\\\":259.7756084449,\\\\\"1719806400000\\\\\":259.0767354674,\\\\\"1719892800000\\\\\":257.3294547093,\\\\\"1719979200000\\\\\":260.81400298,\\\\\"1720152000000\\\\\":265.3968678682,\\\\\"1720411200000\\\\\":262.4315011897,\\\\\"1720497600000\\\\\":257.0,\\\\\"1720584000000\\\\\":254.8000030518,\\\\\"1720670400000\\\\\":255.4199981689,\\\\\"1720756800000\\\\\":255.2899932861,\\\\\"1721016000000\\\\\":256.3900146484,\\\\\"1721102400000\\\\\":256.7799987793,\\\\\"1721188800000\\\\\":255.5700073242,\\\\\"1721275200000\\\\\":252.4499969482,\\\\\"1721361600000\\\\\":248.9900054932,\\\\\"1721620800000\\\\\":255.5800018311,\\\\\"1721707200000\\\\\":257.3299865723,\\\\\"1721793600000\\\\\":255.9100036621,\\\\\"1721880000000\\\\\":264.0799865723,\\\\\"1721966400000\\\\\":264.4899902344,\\\\\"1722225600000\\\\\":266.0799865723,\\\\\"1722312000000\\\\\":260.75,\\\\\"1722398400000\\\\\":261.8299865723,\\\\\"1722484800000\\\\\":263.3599853516,\\\\\"1722571200000\\\\\":248.0,\\\\\"1722830400000\\\\\":241.8200073242,\\\\\"1722916800000\\\\\":243.8500061035,\\\\\"1723003200000\\\\\":246.5299987793,\\\\\"1723089600000\\\\\":249.4299926758,\\\\\"1723176000000\\\\\":252.9499969482,\\\\\"1723435200000\\\\\":254.0899963379,\\\\\"1723521600000\\\\\":255.7799987793,\\\\\"1723608000000\\\\\":257.7099914551,\\\\\"1723694400000\\\\\":262.8900146484,\\\\\"1723780800000\\\\\":263.6000061035,\\\\\"1724040000000\\\\\":265.3900146484,\\\\\"1724126400000\\\\\":265.5,\\\\\"1724212800000\\\\\":262.1400146484,\\\\\"1724299200000\\\\\":263.2600097656,\\\\\"1724385600000\\\\\":265.6000061035,\\\\\"1724644800000\\\\\":267.299987793,\\\\\"1724731200000\\\\\":264.4599914551,\\\\\"1724817600000\\\\\":265.1799926758,\\\\\"1724904000000\\\\\":271.950012207,\\\\\"1724990400000\\\\\":259.1300048828,\\\\\"1725336000000\\\\\":253.6900024414,\\\\\"1725422400000\\\\\":249.4799957275,\\\\\"1725508800000\\\\\":248.5,\\\\\"1725595200000\\\\\":250.0,\\\\\"1725854400000\\\\\":249.3600006104,\\\\\"1725940800000\\\\\":247.3399963379,\\\\\"1726027200000\\\\\":250.0200042725,\\\\\"1726113600000\\\\\":254.1399993896,\\\\\"1726200000000\\\\\":256.8299865723},\\\\\"Low\\\\\":{\\\\\"1718337600000\\\\\":228.8437817431,\\\\\"1718596800000\\\\\":227.4160008482,\\\\\"1718683200000\\\\\":228.8737302552,\\\\\"1718856000000\\\\\":232.4881075896,\\\\\"1718942400000\\\\\":239.8166968014,\\\\\"1719201600000\\\\\":239.4372900635,\\\\\"1719288000000\\\\\":239.4971849072,\\\\\"1719374400000\\\\\":239.5271458157,\\\\\"1719460800000\\\\\":244.0700772353,\\\\\"1719547200000\\\\\":252.7864881808,\\\\\"1719806400000\\\\\":254.1344164107,\\\\\"1719892800000\\\\\":253.6651451067,\\\\\"1719979200000\\\\\":256.5406563406,\\\\\"1720152000000\\\\\":260.9138561083,\\\\\"1720411200000\\\\\":256.7902882822,\\\\\"1720497600000\\\\\":251.0899963379,\\\\\"1720584000000\\\\\":246.1100006104,\\\\\"1720670400000\\\\\":250.9199981689,\\\\\"1720756800000\\\\\":249.6900024414,\\\\\"1721016000000\\\\\":252.1199951172,\\\\\"1721102400000\\\\\":252.6699981689,\\\\\"1721188800000\\\\\":249.6100006104,\\\\\"1721275200000\\\\\":245.7200012207,\\\\\"1721361600000\\\\\":245.1699981689,\\\\\"1721620800000\\\\\":248.0,\\\\\"1721707200000\\\\\":253.75,\\\\\"1721793600000\\\\\":248.8999938965,\\\\\"1721880000000\\\\\":251.7200012207,\\\\\"1721966400000\\\\\":257.0700073242,\\\\\"1722225600000\\\\\":258.5199890137,\\\\\"1722312000000\\\\\":255.1199951172,\\\\\"1722398400000\\\\\":255.3500061035,\\\\\"1722484800000\\\\\":249.7400054932,\\\\\"1722571200000\\\\\":241.1199951172,\\\\\"1722830400000\\\\\":232.2100067139,\\\\\"1722916800000\\\\\":238.0299987793,\\\\\"1723003200000\\\\\":239.6600036621,\\\\\"1723089600000\\\\\":243.0800018311,\\\\\"1723176000000\\\\\":248.4499969482,\\\\\"1723435200000\\\\\":249.0200042725,\\\\\"1723521600000\\\\\":253.0,\\\\\"1723608000000\\\\\":253.8600006104,\\\\\"1723694400000\\\\\":256.2399902344,\\\\\"1723780800000\\\\\":259.6799926758,\\\\\"1724040000000\\\\\":261.6300048828,\\\\\"1724126400000\\\\\":261.0299987793,\\\\\"1724212800000\\\\\":259.1799926758,\\\\\"1724299200000\\\\\":257.2699890137,\\\\\"1724385600000\\\\\":260.700012207,\\\\\"1724644800000\\\\\":263.2399902344,\\\\\"1724731200000\\\\\":259.3999938965,\\\\\"1724817600000\\\\\":257.3599853516,\\\\\"1724904000000\\\\\":256.2799987793,\\\\\"1724990400000\\\\\":251.0,\\\\\"1725336000000\\\\\":246.6399993896,\\\\\"1725422400000\\\\\":245.1600036621,\\\\\"1725508800000\\\\\":245.0,\\\\\"1725595200000\\\\\":241.4400024414,\\\\\"1725854400000\\\\\":244.7700042725,\\\\\"1725940800000\\\\\":243.3099975586,\\\\\"1726027200000\\\\\":242.0099945068,\\\\\"1726113600000\\\\\":249.5700073242,\\\\\"1726200000000\\\\\":252.4499969482},\\\\\"Close\\\\\":{\\\\\"1718337600000\\\\\":231.5795288086,\\\\\"1718596800000\\\\\":230.1217803955,\\\\\"1718683200000\\\\\":231.44972229,\\\\\"1718856000000\\\\\":241.4241943359,\\\\\"1718942400000\\\\\":244.6791229248,\\\\\"1719201600000\\\\\":239.5670928955,\\\\\"1719288000000\\\\\":241.3842468262,\\\\\"1719374400000\\\\\":242.7720947266,\\\\\"1719460800000\\\\\":252.45703125,\\\\\"1719547200000\\\\\":256.7004089355,\\\\\"1719806400000\\\\\":255.8117980957,\\\\\"1719892800000\\\\\":255.7918395996,\\\\\"1719979200000\\\\\":260.5444335938,\\\\\"1720152000000\\\\\":262.7809448242,\\\\\"1720411200000\\\\\":256.9700012207,\\\\\"1720497600000\\\\\":252.4299926758,\\\\\"1720584000000\\\\\":252.5899963379,\\\\\"1720670400000\\\\\":251.1199951172,\\\\\"1720756800000\\\\\":253.9700012207,\\\\\"1721016000000\\\\\":252.8600006104,\\\\\"1721102400000\\\\\":256.0299987793,\\\\\"1721188800000\\\\\":251.2200012207,\\\\\"1721275200000\\\\\":247.3500061035,\\\\\"1721361600000\\\\\":247.6300048828,\\\\\"1721620800000\\\\\":254.0800018311,\\\\\"1721707200000\\\\\":256.0599975586,\\\\\"1721793600000\\\\\":249.7799987793,\\\\\"1721880000000\\\\\":256.5199890137,\\\\\"1721966400000\\\\\":262.7099914551,\\\\\"1722225600000\\\\\":258.5899963379,\\\\\"1722312000000\\\\\":257.9299926758,\\\\\"1722398400000\\\\\":258.799987793,\\\\\"1722484800000\\\\\":253.0599975586,\\\\\"1722571200000\\\\\":243.9700012207,\\\\\"1722830400000\\\\\":239.0099945068,\\\\\"1722916800000\\\\\":238.4199981689,\\\\\"1723003200000\\\\\":240.0399932861,\\\\\"1723089600000\\\\\":249.1199951172,\\\\\"1723176000000\\\\\":252.5299987793,\\\\\"1723435200000\\\\\":251.3099975586,\\\\\"1723521600000\\\\\":254.6000061035,\\\\\"1723608000000\\\\\":255.3200073242,\\\\\"1723694400000\\\\\":262.7900085449,\\\\\"1723780800000\\\\\":262.9100036621,\\\\\"1724040000000\\\\\":265.3800048828,\\\\\"1724126400000\\\\\":261.8399963379,\\\\\"1724212800000\\\\\":261.0899963379,\\\\\"1724299200000\\\\\":258.5899963379,\\\\\"1724385600000\\\\\":264.0,\\\\\"1724644800000\\\\\":265.2799987793,\\\\\"1724731200000\\\\\":264.200012207,\\\\\"1724817600000\\\\\":258.8999938965,\\\\\"1724904000000\\\\\":257.0100097656,\\\\\"1724990400000\\\\\":252.8999938965,\\\\\"1725336000000\\\\\":248.0599975586,\\\\\"1725422400000\\\\\":247.6799926758,\\\\\"1725508800000\\\\\":246.1199951172,\\\\\"1725595200000\\\\\":243.9700012207,\\\\\"1725854400000\\\\\":245.7599945068,\\\\\"1725940800000\\\\\":246.1600036621,\\\\\"1726027200000\\\\\":249.5700073242,\\\\\"1726113600000\\\\\":253.3699951172,\\\\\"1726200000000\\\\\":254.5700073242},\\\\\"Volume\\\\\":{\\\\\"1718337600000\\\\\":8833700,\\\\\"1718596800000\\\\\":10563700,\\\\\"1718683200000\\\\\":7119800,\\\\\"1718856000000\\\\\":14809600,\\\\\"1718942400000\\\\\":15928800,\\\\\"1719201600000\\\\\":7545700,\\\\\"1719288000000\\\\\":6216600,\\\\\"1719374400000\\\\\":4524700,\\\\\"1719460800000\\\\\":12869000,\\\\\"1719547200000\\\\\":12619300,\\\\\"1719806400000\\\\\":5871700,\\\\\"1719892800000\\\\\":5130600,\\\\\"1719979200000\\\\\":4755700,\\\\\"1720152000000\\\\\":6562100,\\\\\"1720411200000\\\\\":6539300,\\\\\"1720497600000\\\\\":7014900,\\\\\"1720584000000\\\\\":8947700,\\\\\"1720670400000\\\\\":5341800,\\\\\"1720756800000\\\\\":4705500,\\\\\"1721016000000\\\\\":4404300,\\\\\"1721102400000\\\\\":4780400,\\\\\"1721188800000\\\\\":5625300,\\\\\"1721275200000\\\\\":6351600,\\\\\"1721361600000\\\\\":4468900,\\\\\"1721620800000\\\\\":5647600,\\\\\"1721707200000\\\\\":3905500,\\\\\"1721793600000\\\\\":5204100,\\\\\"1721880000000\\\\\":7155800,\\\\\"1721966400000\\\\\":6127300,\\\\\"1722225600000\\\\\":5101400,\\\\\"1722312000000\\\\\":3944300,\\\\\"1722398400000\\\\\":4647700,\\\\\"1722484800000\\\\\":5527400,\\\\\"1722571200000\\\\\":6504500,\\\\\"1722830400000\\\\\":6899300,\\\\\"1722916800000\\\\\":5673900,\\\\\"1723003200000\\\\\":4035500,\\\\\"1723089600000\\\\\":4474300,\\\\\"1723176000000\\\\\":2975300,\\\\\"1723435200000\\\\\":3679700,\\\\\"1723521600000\\\\\":4031600,\\\\\"1723608000000\\\\\":4145200,\\\\\"1723694400000\\\\\":5167900,\\\\\"1723780800000\\\\\":3494900,\\\\\"1724040000000\\\\\":4501300,\\\\\"1724126400000\\\\\":5731300,\\\\\"1724212800000\\\\\":4648200,\\\\\"1724299200000\\\\\":5111400,\\\\\"1724385600000\\\\\":4711300,\\\\\"1724644800000\\\\\":3818300,\\\\\"1724731200000\\\\\":5276400,\\\\\"1724817600000\\\\\":10981900,\\\\\"1724904000000\\\\\":14301700,\\\\\"1724990400000\\\\\":10507700,\\\\\"1725336000000\\\\\":6190400,\\\\\"1725422400000\\\\\":4706500,\\\\\"1725508800000\\\\\":4083600,\\\\\"1725595200000\\\\\":6259400,\\\\\"1725854400000\\\\\":4588800,\\\\\"1725940800000\\\\\":3544800,\\\\\"1726027200000\\\\\":4822200,\\\\\"1726113600000\\\\\":5221400,\\\\\"1726200000000\\\\\":4998100},\\\\\"Dividends\\\\\":{\\\\\"1718337600000\\\\\":0.0,\\\\\"1718596800000\\\\\":0.0,\\\\\"1718683200000\\\\\":0.0,\\\\\"1718856000000\\\\\":0.0,\\\\\"1718942400000\\\\\":0.0,\\\\\"1719201600000\\\\\":0.0,\\\\\"1719288000000\\\\\":0.0,\\\\\"1719374400000\\\\\":0.0,\\\\\"1719460800000\\\\\":0.0,\\\\\"1719547200000\\\\\":0.0,\\\\\"1719806400000\\\\\":0.0,\\\\\"1719892800000\\\\\":0.0,\\\\\"1719979200000\\\\\":0.0,\\\\\"1720152000000\\\\\":0.0,\\\\\"1720411200000\\\\\":0.0,\\\\\"1720497600000\\\\\":0.4,\\\\\"1720584000000\\\\\":0.0,\\\\\"1720670400000\\\\\":0.0,\\\\\"1720756800000\\\\\":0.0,\\\\\"1721016000000\\\\\":0.0,\\\\\"1721102400000\\\\\":0.0,\\\\\"1721188800000\\\\\":0.0,\\\\\"1721275200000\\\\\":0.0,\\\\\"1721361600000\\\\\":0.0,\\\\\"1721620800000\\\\\":0.0,\\\\\"1721707200000\\\\\":0.0,\\\\\"1721793600000\\\\\":0.0,\\\\\"1721880000000\\\\\":0.0,\\\\\"1721966400000\\\\\":0.0,\\\\\"1722225600000\\\\\":0.0,\\\\\"1722312000000\\\\\":0.0,\\\\\"1722398400000\\\\\":0.0,\\\\\"1722484800000\\\\\":0.0,\\\\\"1722571200000\\\\\":0.0,\\\\\"1722830400000\\\\\":0.0,\\\\\"1722916800000\\\\\":0.0,\\\\\"1723003200000\\\\\":0.0,\\\\\"1723089600000\\\\\":0.0,\\\\\"1723176000000\\\\\":0.0,\\\\\"1723435200000\\\\\":0.0,\\\\\"1723521600000\\\\\":0.0,\\\\\"1723608000000\\\\\":0.0,\\\\\"1723694400000\\\\\":0.0,\\\\\"1723780800000\\\\\":0.0,\\\\\"1724040000000\\\\\":0.0,\\\\\"1724126400000\\\\\":0.0,\\\\\"1724212800000\\\\\":0.0,\\\\\"1724299200000\\\\\":0.0,\\\\\"1724385600000\\\\\":0.0,\\\\\"1724644800000\\\\\":0.0,\\\\\"1724731200000\\\\\":0.0,\\\\\"1724817600000\\\\\":0.0,\\\\\"1724904000000\\\\\":0.0,\\\\\"1724990400000\\\\\":0.0,\\\\\"1725336000000\\\\\":0.0,\\\\\"1725422400000\\\\\":0.0,\\\\\"1725508800000\\\\\":0.0,\\\\\"1725595200000\\\\\":0.0,\\\\\"1725854400000\\\\\":0.0,\\\\\"1725940800000\\\\\":0.0,\\\\\"1726027200000\\\\\":0.0,\\\\\"1726113600000\\\\\":0.0,\\\\\"1726200000000\\\\\":0.0},\\\\\"Stock Splits\\\\\":{\\\\\"1718337600000\\\\\":0.0,\\\\\"1718596800000\\\\\":0.0,\\\\\"1718683200000\\\\\":0.0,\\\\\"1718856000000\\\\\":0.0,\\\\\"1718942400000\\\\\":0.0,\\\\\"1719201600000\\\\\":0.0,\\\\\"1719288000000\\\\\":0.0,\\\\\"1719374400000\\\\\":0.0,\\\\\"1719460800000\\\\\":0.0,\\\\\"1719547200000\\\\\":0.0,\\\\\"1719806400000\\\\\":0.0,\\\\\"1719892800000\\\\\":0.0,\\\\\"1719979200000\\\\\":0.0,\\\\\"1720152000000\\\\\":0.0,\\\\\"1720411200000\\\\\":0.0,\\\\\"1720497600000\\\\\":0.0,\\\\\"1720584000000\\\\\":0.0,\\\\\"1720670400000\\\\\":0.0,\\\\\"1720756800000\\\\\":0.0,\\\\\"1721016000000\\\\\":0.0,\\\\\"1721102400000\\\\\":0.0,\\\\\"1721188800000\\\\\":0.0,\\\\\"1721275200000\\\\\":0.0,\\\\\"1721361600000\\\\\":0.0,\\\\\"1721620800000\\\\\":0.0,\\\\\"1721707200000\\\\\":0.0,\\\\\"1721793600000\\\\\":0.0,\\\\\"1721880000000\\\\\":0.0,\\\\\"1721966400000\\\\\":0.0,\\\\\"1722225600000\\\\\":0.0,\\\\\"1722312000000\\\\\":0.0,\\\\\"1722398400000\\\\\":0.0,\\\\\"1722484800000\\\\\":0.0,\\\\\"1722571200000\\\\\":0.0,\\\\\"1722830400000\\\\\":0.0,\\\\\"1722916800000\\\\\":0.0,\\\\\"1723003200000\\\\\":0.0,\\\\\"1723089600000\\\\\":0.0,\\\\\"1723176000000\\\\\":0.0,\\\\\"1723435200000\\\\\":0.0,\\\\\"1723521600000\\\\\":0.0,\\\\\"1723608000000\\\\\":0.0,\\\\\"1723694400000\\\\\":0.0,\\\\\"1723780800000\\\\\":0.0,\\\\\"1724040000000\\\\\":0.0,\\\\\"1724126400000\\\\\":0.0,\\\\\"1724212800000\\\\\":0.0,\\\\\"1724299200000\\\\\":0.0,\\\\\"1724385600000\\\\\":0.0,\\\\\"1724644800000\\\\\":0.0,\\\\\"1724731200000\\\\\":0.0,\\\\\"1724817600000\\\\\":0.0,\\\\\"1724904000000\\\\\":0.0,\\\\\"1724990400000\\\\\":0.0,\\\\\"1725336000000\\\\\":0.0,\\\\\"1725422400000\\\\\":0.0,\\\\\"1725508800000\\\\\":0.0,\\\\\"1725595200000\\\\\":0.0,\\\\\"1725854400000\\\\\":0.0,\\\\\"1725940800000\\\\\":0.0,\\\\\"1726027200000\\\\\":0.0,\\\\\"1726113600000\\\\\":0.0,\\\\\"1726200000000\\\\\":0.0}}\"'}]"
      ]
     },
     "execution_count": 18,
     "metadata": {},
     "output_type": "execute_result"
    }
   ],
   "source": [
    "# run의 status가 requires_action일 때, tool_output을 전달하기 위해 tool_output을 만드는 부분\n",
    "tool_outputs = [\n",
    "    {\n",
    "        \"tool_call_id\": tool_call[\"id\"],\n",
    "        \"output\": globals()[tool_call[\"function\"][\"name\"]](\n",
    "            json.loads(tool_call[\"function\"][\"arguments\"]),\n",
    "        ),\n",
    "    }\n",
    "    for tool_call in get_run(run.id, thread.id).required_action.to_dict()[\n",
    "        \"submit_tool_outputs\"\n",
    "    ][\"tool_calls\"]\n",
    "]\n",
    "tool_outputs"
   ]
  },
  {
   "cell_type": "code",
   "execution_count": 19,
   "metadata": {},
   "outputs": [
    {
     "data": {
      "text/plain": [
       "Run(id='run_Mmr0OmehnaTrRn09RP6g0BZX', assistant_id='asst_5pa9C9Kw2rsf1BIVDSqN6SZt', cancelled_at=None, completed_at=None, created_at=1726411108, expires_at=1726411708, failed_at=None, incomplete_details=None, instructions='You help users do research on publicly traded companies and you help users decide if they should buy the stock or not.', last_error=None, max_completion_tokens=None, max_prompt_tokens=None, metadata={}, model='gpt-4-turbo', object='thread.run', parallel_tool_calls=True, required_action=None, response_format='auto', started_at=1726411247, status='queued', thread_id='thread_y6FbiZ63sFwoka6adn1OF5Ta', tool_choice='auto', tools=[FunctionTool(function=FunctionDefinition(name='get_ticker', description='Given the name of a company returns its ticker symbol', parameters={'type': 'object', 'properties': {'company_name': {'type': 'string', 'description': 'The name of the company'}}, 'required': ['company_name']}, strict=False), type='function'), FunctionTool(function=FunctionDefinition(name='get_income_statement', description=\"Given a ticker symbol (i.e AAPL) returns the company's income statement.\", parameters={'type': 'object', 'properties': {'ticker': {'type': 'string', 'description': 'Ticker symbol of the company'}}, 'required': ['ticker']}, strict=False), type='function'), FunctionTool(function=FunctionDefinition(name='get_balance_sheet', description=\"Given a ticker symbol (i.e AAPL) returns the company's balance sheet.\", parameters={'type': 'object', 'properties': {'ticker': {'type': 'string', 'description': 'Ticker symbol of the company'}}, 'required': ['ticker']}, strict=False), type='function'), FunctionTool(function=FunctionDefinition(name='get_daily_stock_performance', description='Given a ticker symbol (i.e AAPL) returns the performance of the stock for the last 100 days.', parameters={'type': 'object', 'properties': {'ticker': {'type': 'string', 'description': 'Ticker symbol of the company'}}, 'required': ['ticker']}, strict=False), type='function')], truncation_strategy=TruncationStrategy(type='auto', last_messages=None), usage=None, temperature=1.0, top_p=1.0, tool_resources={})"
      ]
     },
     "execution_count": 19,
     "metadata": {},
     "output_type": "execute_result"
    }
   ],
   "source": [
    "# tool_outputs를 제출하기 위한 코드\n",
    "client.beta.threads.runs.submit_tool_outputs(\n",
    "    run_id=run.id, thread_id=thread.id, tool_outputs=tool_outputs\n",
    ")"
   ]
  },
  {
   "cell_type": "code",
   "execution_count": 25,
   "metadata": {},
   "outputs": [
    {
     "name": "stdout",
     "output_type": "stream",
     "text": [
      "user: I want to know if the Salesforce stock is a good buy.\n",
      "assistant: Considering Salesforce's financial and stock performance data, let's evaluate if their stock is a good buy:\n",
      "\n",
      "### 1. Financial Performance Analysis\n",
      "#### Income Statement Highlights:\n",
      "- **Total Revenue**: Grew from $26.492 billion in 2020 to $34.857 billion in 2022, indicating a strong growth trajectory.\n",
      "- **Operating Income**: Increased significantly to $5.999 billion in 2022 from just $548 million in 2020.\n",
      "- **Net Income**: Also saw substantial growth, from $1.444 billion in 2020 to $4.136 billion in 2022.\n",
      "\n",
      "#### Balance Sheet Highlights:\n",
      "- **Total Assets**: Increased from $66.3 billion in 2020 to $99.8 billion in 2022.\n",
      "- **Total Liabilities**: Grew from $24.8 billion in 2020 to $40.1 billion in 2022, but this is proportionate to asset and equity growth.\n",
      "- **Stockholders' Equity**: Consistently rising, from $41.5 billion in 2020 to $59.6 billion in 2022, indicating strengthening financial stability.\n",
      "\n",
      "### 2. Recent Stock Performance Analysis\n",
      "- **Recent Trading Range**: The stock price has seen some fluctuations, trading from a high of around $265 to a low near $228 over the 100-day period, currently around $252.90.\n",
      "- **Volatility**: There is some market volatility, as exhibited by price swings, which can offer opportunities for both short-term gains and long-term holding benefits.\n",
      "\n",
      "### Decision Factors:\n",
      "1. **Financial Growth**: Salesforce shows a robust financial growth, especially in revenue and net income.\n",
      "2. **Asset Buildup**: Increasing total assets along with proportionate equity growth maintains a healthy balance sheet.\n",
      "3. **Market Performance**: While there's volatility, the market shows confidence in the stock with an overall upward trend in the medium term.\n",
      "\n",
      "### Recommendation:\n",
      "Given the robust growth metrics and solid market performance, **Salesforce appears to be a good investment opportunity**. If you are comfortable with some market volatility and are looking for a growth stock in the technology sector, Salesforce could be a worthwhile addition to your portfolio.\n",
      "\n",
      "You should consult with a financial advisor or do further individual research to tailor this decision to your specific financial goals and risk appetite.\n"
     ]
    }
   ],
   "source": [
    "get_messages(thread.id)"
   ]
  }
 ],
 "metadata": {
  "kernelspec": {
   "display_name": "env",
   "language": "python",
   "name": "python3"
  },
  "language_info": {
   "codemirror_mode": {
    "name": "ipython",
    "version": 3
   },
   "file_extension": ".py",
   "mimetype": "text/x-python",
   "name": "python",
   "nbconvert_exporter": "python",
   "pygments_lexer": "ipython3",
   "version": "3.11.2"
  }
 },
 "nbformat": 4,
 "nbformat_minor": 2
}
