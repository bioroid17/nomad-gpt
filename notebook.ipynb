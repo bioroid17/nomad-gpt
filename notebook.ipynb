{
 "cells": [
  {
   "cell_type": "code",
   "execution_count": 1,
   "metadata": {},
   "outputs": [
    {
     "name": "stdout",
     "output_type": "stream",
     "text": [
      "\n",
      "\n",
      "\u001b[1m> Entering new AgentExecutor chain...\u001b[0m\n",
      "\u001b[32;1m\u001b[1;3m\n",
      "Invoking: `StockMarketSymbolSearchTool` with `{'query': 'Cloudflare stock'}`\n",
      "\n",
      "\n",
      "\u001b[0m\u001b[36;1m\u001b[1;3mCloudflare Q2 Earnings Highlights: Revenue Beat, EPS Beat, Guidance Shines. Cloud connectivity company Cloudflare Inc NET reported second-quarter revenue of $401.0 million, up 30% year-over-year. The revenue beat a Street consensus estimate of $394.69 million, according to da... 5 weeks ago - Benzinga. Real-time Cloudflare stock price (NYSE: NET) plus other valuable data points like day range, year, stock analyst insights, related news and more. Cloudflare reported a strong Q2 with revenue and operating income beating expectations, and raised its full-year guidance. The company also announced a leadership change and highlighted its AI and developer growth. Cloudflare's stock has recently been incredibly volatile, ranging between approximately $30 and $80. The significant price movements have been in response to news and events affecting the broader tech industry. Cloudflare operates in the highly competitive cybersecurity industry, characterized by rapid technological change, intense competition ... Stock analysis for Cloudflare Inc (NET:New York) including stock price, stock chart, company news, key statistics, fundamentals and company profile.\u001b[0m\u001b[32;1m\u001b[1;3mCloudflare Inc. (stock symbol: NET) reported strong Q2 earnings with revenue beating expectations and raised its full-year guidance. The stock has been volatile, ranging between approximately $30 and $80, with significant price movements in response to news and events affecting the broader tech industry.\n",
      "\n",
      "To analyze if Cloudflare is a potential good investment, we can consider the following factors:\n",
      "1. **Financial Performance**: Look at the company's revenue growth, profitability, and cash flow.\n",
      "2. **Competitive Position**: Evaluate Cloudflare's position in the competitive cybersecurity industry.\n",
      "3. **Future Growth Potential**: Consider factors like market trends, product innovation, and expansion plans.\n",
      "4. **Risk Factors**: Assess risks such as competition, regulatory challenges, and market volatility.\n",
      "\n",
      "It's important to conduct further research and analysis, possibly with the help of a financial advisor, to make an informed investment decision.\u001b[0m\n",
      "\n",
      "\u001b[1m> Finished chain.\u001b[0m\n"
     ]
    },
    {
     "data": {
      "text/plain": [
       "{'input': \"Give me information on Cloudflare's stock and help me analyze if it's a potential good investment. Also tell me what symbol does the stock have.\",\n",
       " 'output': \"Cloudflare Inc. (stock symbol: NET) reported strong Q2 earnings with revenue beating expectations and raised its full-year guidance. The stock has been volatile, ranging between approximately $30 and $80, with significant price movements in response to news and events affecting the broader tech industry.\\n\\nTo analyze if Cloudflare is a potential good investment, we can consider the following factors:\\n1. **Financial Performance**: Look at the company's revenue growth, profitability, and cash flow.\\n2. **Competitive Position**: Evaluate Cloudflare's position in the competitive cybersecurity industry.\\n3. **Future Growth Potential**: Consider factors like market trends, product innovation, and expansion plans.\\n4. **Risk Factors**: Assess risks such as competition, regulatory challenges, and market volatility.\\n\\nIt's important to conduct further research and analysis, possibly with the help of a financial advisor, to make an informed investment decision.\"}"
      ]
     },
     "execution_count": 1,
     "metadata": {},
     "output_type": "execute_result"
    }
   ],
   "source": [
    "from typing import Type\n",
    "from langchain.chat_models import ChatOpenAI\n",
    "from langchain.tools import BaseTool\n",
    "from langchain.agents import initialize_agent, AgentType\n",
    "from langchain.utilities import DuckDuckGoSearchAPIWrapper\n",
    "from pydantic import BaseModel, Field\n",
    "\n",
    "llm = ChatOpenAI(temperature=0.1)\n",
    "\n",
    "\n",
    "class StockMarketSymbolSearchToolArgsSchema(BaseModel):\n",
    "    query: str = Field(description=\"The query you will search for\")\n",
    "\n",
    "\n",
    "class StockMarketSymbolSearchTool(BaseTool):\n",
    "    name = \"StockMarketSymbolSearchTool\"\n",
    "    description = \"\"\"\n",
    "    Use this tool to find the stock market symbol for a company.\n",
    "    It takes a query as an argument.\n",
    "    Example query: Stock Market Symbol for Apple Company\n",
    "    \"\"\"\n",
    "    args_schema: Type[StockMarketSymbolSearchToolArgsSchema] = (\n",
    "        StockMarketSymbolSearchToolArgsSchema\n",
    "    )\n",
    "\n",
    "    def _run(self, query):\n",
    "        ddg = DuckDuckGoSearchAPIWrapper()\n",
    "        return ddg.run(query)\n",
    "\n",
    "\n",
    "agent = initialize_agent(\n",
    "    llm=llm,\n",
    "    verbose=True,\n",
    "    agent=AgentType.OPENAI_FUNCTIONS,\n",
    "    handle_parsing_errors=True,\n",
    "    tools=[\n",
    "        StockMarketSymbolSearchTool(),\n",
    "    ],\n",
    ")\n",
    "\n",
    "prompt = \"Give me information on Cloudflare's stock and help me analyze if it's a potential good investment. Also tell me what symbol does the stock have.\"\n",
    "\n",
    "agent.invoke(prompt)"
   ]
  }
 ],
 "metadata": {
  "kernelspec": {
   "display_name": "env",
   "language": "python",
   "name": "python3"
  },
  "language_info": {
   "codemirror_mode": {
    "name": "ipython",
    "version": 3
   },
   "file_extension": ".py",
   "mimetype": "text/x-python",
   "name": "python",
   "nbconvert_exporter": "python",
   "pygments_lexer": "ipython3",
   "version": "3.11.2"
  }
 },
 "nbformat": 4,
 "nbformat_minor": 2
}
