{
 "cells": [
  {
   "cell_type": "code",
   "execution_count": 3,
   "metadata": {},
   "outputs": [
    {
     "name": "stderr",
     "output_type": "stream",
     "text": [
      "Using pad_token, but it is not set yet.\n",
      "Setting `pad_token_id` to `eos_token_id`:50256 for open-end generation.\n"
     ]
    },
    {
     "name": "stdout",
     "output_type": "stream",
     "text": [
      " common seed. It contains up to 40% sugar. There are many varieties so I always put them in their own bottle or in one I've left over from when I used it to fill up. While most people do this on their tomatoes, there are many to choose from; here are my favorites.\n",
      "\n",
      "Ingredients:\n",
      "\n",
      "1 large tomato, cut into about ¼-inch pieces\n",
      "\n",
      "2 cups chopped walnuts, cut into ¼-inch pieces\n",
      "\n",
      "1 1/2 cups (800 grams) granulated sugar\n",
      "\n",
      "1 package (400 grams) nutritional yeast\n",
      "\n",
      "1 teaspoon baking powder\n",
      "\n",
      "4 tablespoons chopped black pepper\n",
      "\n",
      "Cream your canned tomatoes and walnuts together with ¼-inch each. Add\n"
     ]
    }
   ],
   "source": [
    "from langchain.llms.huggingface_pipeline import HuggingFacePipeline\n",
    "from langchain.prompts import PromptTemplate\n",
    "\n",
    "prompt = PromptTemplate.from_template(\"A {word} is a\")\n",
    "\n",
    "llm = HuggingFacePipeline.from_model_id(\n",
    "    model_id=\"openai-community/gpt2\",\n",
    "    task=\"text-generation\",\n",
    "    pipeline_kwargs={\n",
    "        \"max_new_tokens\": 150,\n",
    "    },\n",
    ")\n",
    "\n",
    "chain = prompt | llm\n",
    "\n",
    "print(chain.invoke({\"word\": \"tomato\"}))"
   ]
  }
 ],
 "metadata": {
  "kernelspec": {
   "display_name": "env",
   "language": "python",
   "name": "python3"
  },
  "language_info": {
   "codemirror_mode": {
    "name": "ipython",
    "version": 3
   },
   "file_extension": ".py",
   "mimetype": "text/x-python",
   "name": "python",
   "nbconvert_exporter": "python",
   "pygments_lexer": "ipython3",
   "version": "3.11.2"
  }
 },
 "nbformat": 4,
 "nbformat_minor": 2
}
