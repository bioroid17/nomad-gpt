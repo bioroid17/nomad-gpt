{
 "cells": [
  {
   "cell_type": "code",
   "execution_count": 10,
   "metadata": {},
   "outputs": [
    {
     "data": {
      "text/plain": [
       "['./.cache/meetinggpt/audios/chunks\\\\chunk_0.mp3',\n",
       " './.cache/meetinggpt/audios/chunks\\\\chunk_1.mp3',\n",
       " './.cache/meetinggpt/audios/chunks\\\\chunk_2.mp3',\n",
       " './.cache/meetinggpt/audios/chunks\\\\chunk_3.mp3',\n",
       " './.cache/meetinggpt/audios/chunks\\\\chunk_4.mp3',\n",
       " './.cache/meetinggpt/audios/chunks\\\\chunk_5.mp3',\n",
       " './.cache/meetinggpt/audios/chunks\\\\chunk_6.mp3',\n",
       " './.cache/meetinggpt/audios/chunks\\\\chunk_7.mp3']"
      ]
     },
     "execution_count": 10,
     "metadata": {},
     "output_type": "execute_result"
    }
   ],
   "source": [
    "import glob\n",
    "\n",
    "files = glob.glob(\"./.cache/meetinggpt/audios/chunks/*.mp3\")\n",
    "\n",
    "files.sort()\n",
    "\n",
    "files"
   ]
  }
 ],
 "metadata": {
  "kernelspec": {
   "display_name": "env",
   "language": "python",
   "name": "python3"
  },
  "language_info": {
   "codemirror_mode": {
    "name": "ipython",
    "version": 3
   },
   "file_extension": ".py",
   "mimetype": "text/x-python",
   "name": "python",
   "nbconvert_exporter": "python",
   "pygments_lexer": "ipython3",
   "version": "3.11.2"
  }
 },
 "nbformat": 4,
 "nbformat_minor": 2
}
